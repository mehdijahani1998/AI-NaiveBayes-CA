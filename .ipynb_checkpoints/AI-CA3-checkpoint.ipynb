{
 "cells": [
  {
   "cell_type": "code",
   "execution_count": 2,
   "metadata": {},
   "outputs": [
    {
     "data": {
      "text/html": [
       "\n",
       "<html>\n",
       "<head>\n",
       "<link rel=\"stylesheet\" href=\"https://fonts.googleapis.com/css?family=Lateef\">\n",
       "<link rel=\"stylesheet\" href=\"https://fonts.googleapis.com/css?family=Consolas\">\n",
       "<style>\n",
       "body {background-color: powderblue;}\n",
       "s1   {font-size: 250% ;font-family: \"Lateef\"; direction: rtl; font-weight: bold;}\n",
       "p    {font-family: \"Lateef\"; direction: rtl; font-size: 28px; text-align: justify;}\n",
       "code {font-family: \"Consolas\"; direction: rtl; font-size: 16px; text-align: justify;}\n",
       "ul {font-family: \"Lateef\"; direction: rtl; font-size: 28px; text-align: justify; line-height: 1.3}\n",
       "</style>\n",
       "</head>\n"
      ],
      "text/plain": [
       "<IPython.core.display.HTML object>"
      ]
     },
     "metadata": {},
     "output_type": "display_data"
    }
   ],
   "source": [
    "%%HTML\n",
    "\n",
    "<html>\n",
    "<head>\n",
    "<link rel=\"stylesheet\" href=\"https://fonts.googleapis.com/css?family=Lateef\">\n",
    "<link rel=\"stylesheet\" href=\"https://fonts.googleapis.com/css?family=Consolas\">\n",
    "<style>\n",
    "body {background-color: powderblue;}\n",
    "s1   {font-size: 250% ;font-family: \"Lateef\"; direction: rtl; font-weight: bold;}\n",
    "p    {font-family: \"Lateef\"; direction: rtl; font-size: 28px; text-align: justify;}\n",
    "code {font-family: \"Consolas\"; direction: rtl; font-size: 16px; text-align: justify;}\n",
    "ul {font-family: \"Lateef\"; direction: rtl; font-size: 28px; text-align: justify; line-height: 1.3}\n",
    "</style>\n",
    "</head>"
   ]
  },
  {
   "cell_type": "code",
   "execution_count": 1,
   "metadata": {
    "executionInfo": {
     "elapsed": 5,
     "status": "ok",
     "timestamp": 1642900541808,
     "user": {
      "displayName": "Sepehr Babapour",
      "photoUrl": "https://lh3.googleusercontent.com/a-/AOh14GhkXqkE-OIMRLdVND22cwT1mLsLRd6gexMXR7mBQA=s64",
      "userId": "06632104842284419853"
     },
     "user_tz": -210
    },
    "id": "e5S9yIUVkoOW"
   },
   "outputs": [],
   "source": [
    "from google.colab import output"
   ]
  },
  {
   "cell_type": "code",
   "execution_count": 2,
   "metadata": {
    "executionInfo": {
     "elapsed": 2863,
     "status": "ok",
     "timestamp": 1642900544667,
     "user": {
      "displayName": "Sepehr Babapour",
      "photoUrl": "https://lh3.googleusercontent.com/a-/AOh14GhkXqkE-OIMRLdVND22cwT1mLsLRd6gexMXR7mBQA=s64",
      "userId": "06632104842284419853"
     },
     "user_tz": -210
    },
    "id": "4ulnIHmuZKps"
   },
   "outputs": [],
   "source": [
    "!gdown -q --id 1yMfgyVupvnr9UzozQv0Kg-h0QTfsHwtt   # divar_test.csv\n",
    "!gdown -q --id 1uZfzsjPuP7l6OYywiOpODbw4CxVdE5_e   # divar_train.csv\n",
    "!gdown -q --id 1FKISvL8Qsh2qFxw0CD4cjmEDT7qxPiuP   # persian"
   ]
  },
  {
   "cell_type": "code",
   "execution_count": 3,
   "metadata": {
    "executionInfo": {
     "elapsed": 12474,
     "status": "ok",
     "timestamp": 1642900557137,
     "user": {
      "displayName": "Sepehr Babapour",
      "photoUrl": "https://lh3.googleusercontent.com/a-/AOh14GhkXqkE-OIMRLdVND22cwT1mLsLRd6gexMXR7mBQA=s64",
      "userId": "06632104842284419853"
     },
     "user_tz": -210
    },
    "id": "Hm7L3bTGj0UH"
   },
   "outputs": [],
   "source": [
    "!pip -q install hazm\n",
    "\n",
    "output.clear()"
   ]
  },
  {
   "cell_type": "code",
   "execution_count": 4,
   "metadata": {
    "executionInfo": {
     "elapsed": 678,
     "status": "ok",
     "timestamp": 1642900557812,
     "user": {
      "displayName": "Sepehr Babapour",
      "photoUrl": "https://lh3.googleusercontent.com/a-/AOh14GhkXqkE-OIMRLdVND22cwT1mLsLRd6gexMXR7mBQA=s64",
      "userId": "06632104842284419853"
     },
     "user_tz": -210
    },
    "id": "KP6OSqsYZ_h0"
   },
   "outputs": [],
   "source": [
    "import pandas as pd\n",
    "from IPython.display import display_html\n",
    "import codecs\n",
    "from hazm import Normalizer, Stemmer, Lemmatizer, word_tokenize\n",
    "import random"
   ]
  },
  {
   "cell_type": "markdown",
   "metadata": {
    "id": "g-sZ6LE5y6W6"
   },
   "source": [
    "# Section 1"
   ]
  },
  {
   "cell_type": "markdown",
   "metadata": {
    "id": "3DNK3h5mgmbI"
   },
   "source": [
    "[link](https://stackoverflow.com/questions/38783027/jupyter-notebook-display-two-pandas-tables-side-by-side)"
   ]
  },
  {
   "cell_type": "code",
   "execution_count": 5,
   "metadata": {
    "executionInfo": {
     "elapsed": 447,
     "status": "ok",
     "timestamp": 1642900558257,
     "user": {
      "displayName": "Sepehr Babapour",
      "photoUrl": "https://lh3.googleusercontent.com/a-/AOh14GhkXqkE-OIMRLdVND22cwT1mLsLRd6gexMXR7mBQA=s64",
      "userId": "06632104842284419853"
     },
     "user_tz": -210
    },
    "id": "wbqTw3hyfHAy"
   },
   "outputs": [],
   "source": [
    "def mydisplay(dfs, names=[], index=False):\n",
    "    def to_df(x):\n",
    "        if isinstance(x, pd.Series):\n",
    "            return pd.DataFrame(x)\n",
    "        else:\n",
    "            return x\n",
    "    html_str = ''\n",
    "    if names:\n",
    "        html_str += ('<tr>' + \n",
    "                     ''.join(f'<td style=\"text-align:center\"><b>{name}<b></td>' for name in names) + \n",
    "                     '</tr>')\n",
    "    html_str += ('<tr>' + \n",
    "                 ''.join(f'<td style=\"vertical-align:top\"> {to_df(df).to_html(index=index)}</td>' \n",
    "                         for df in dfs) + \n",
    "                 '</tr>')\n",
    "    html_str = f'<table>{html_str}</table>'\n",
    "    html_str = html_str.replace('table','table style=\"display:inline\"')\n",
    "    display_html(html_str, raw=True)"
   ]
  },
  {
   "cell_type": "code",
   "execution_count": 6,
   "metadata": {
    "colab": {
     "base_uri": "https://localhost:8080/",
     "height": 234
    },
    "executionInfo": {
     "elapsed": 16,
     "status": "ok",
     "timestamp": 1642900558258,
     "user": {
      "displayName": "Sepehr Babapour",
      "photoUrl": "https://lh3.googleusercontent.com/a-/AOh14GhkXqkE-OIMRLdVND22cwT1mLsLRd6gexMXR7mBQA=s64",
      "userId": "06632104842284419853"
     },
     "user_tz": -210
    },
    "id": "Wb9aIiwVaPD1",
    "outputId": "9970ca81-920f-4dca-82a7-7f5144446025"
   },
   "outputs": [
    {
     "data": {
      "text/html": [
       "<table style=\"display:inline\"><tr><td style=\"text-align:center\"><b>Train<b></td><td style=\"text-align:center\"><b>Test<b></td></tr><tr><td style=\"vertical-align:top\"> <table style=\"display:inline\" border=\"1\" class=\"dataframe\">\n",
       "  <thead>\n",
       "    <tr style=\"text-align: right;\">\n",
       "      <th>title</th>\n",
       "      <th>description</th>\n",
       "      <th>categories</th>\n",
       "    </tr>\n",
       "  </thead>\n",
       "  <tbody>\n",
       "    <tr>\n",
       "      <td>کمدوبوفه</td>\n",
       "      <td>وسایل در حد نو به مشتری واقعی تخفیف میدم</td>\n",
       "      <td>personal</td>\n",
       "    </tr>\n",
       "    <tr>\n",
       "      <td>فروش  دوچرخه 20</td>\n",
       "      <td>بخاطر جابجایی قصد فروش دارم وبه خریدار\\nتخفیف خوبی میدم.مشتری واقعی تماس بگیرد.</td>\n",
       "      <td>leisure-hobbies</td>\n",
       "    </tr>\n",
       "    <tr>\n",
       "      <td>تلویزیون  ال سی دی</td>\n",
       "      <td>تلویزیون سونی کم کار سالم</td>\n",
       "      <td>electronic-devices</td>\n",
       "    </tr>\n",
       "    <tr>\n",
       "      <td>فروشی</td>\n",
       "      <td>تلویزیون فروشی.۲۱اینچ.اسنوا</td>\n",
       "      <td>electronic-devices</td>\n",
       "    </tr>\n",
       "    <tr>\n",
       "      <td>چادر١٠ نفره نونونو قیمت مناسب</td>\n",
       "      <td>چادر ده نفره جنس خوب یه بار استفاده شده کلا\\nتخفیف هم داره \\n.\\n.\\n.\\nیاعلی</td>\n",
       "      <td>leisure-hobbies</td>\n",
       "    </tr>\n",
       "  </tbody>\n",
       "</table style=\"display:inline\"></td><td style=\"vertical-align:top\"> <table style=\"display:inline\" border=\"1\" class=\"dataframe\">\n",
       "  <thead>\n",
       "    <tr style=\"text-align: right;\">\n",
       "      <th>title</th>\n",
       "      <th>description</th>\n",
       "      <th>categories</th>\n",
       "    </tr>\n",
       "  </thead>\n",
       "  <tbody>\n",
       "    <tr>\n",
       "      <td>111-دولفینی-فول</td>\n",
       "      <td>بی رنگ -کم کار-فول sx-بیمه تا1396/02/01</td>\n",
       "      <td>vehicles</td>\n",
       "    </tr>\n",
       "    <tr>\n",
       "      <td>عینک آفتابی</td>\n",
       "      <td>عینک آفتابی ١٠٠٪‏ UV Protection</td>\n",
       "      <td>personal</td>\n",
       "    </tr>\n",
       "    <tr>\n",
       "      <td>موتور تزیینی</td>\n",
       "      <td>از جنس اهن کار دست عرضه به صورت عمده و تکی</td>\n",
       "      <td>for-the-home</td>\n",
       "    </tr>\n",
       "    <tr>\n",
       "      <td>میز تلویزیون شیشه ایی</td>\n",
       "      <td>تمیز و سالم بدون خط و خش</td>\n",
       "      <td>for-the-home</td>\n",
       "    </tr>\n",
       "    <tr>\n",
       "      <td>سرویس چاقو خارجی</td>\n",
       "      <td>سرویس چاقو ژاپنی مال فدیم سالم و نو بع قیمت 60 هزار تومن بفروش میرسد.</td>\n",
       "      <td>for-the-home</td>\n",
       "    </tr>\n",
       "  </tbody>\n",
       "</table style=\"display:inline\"></td></tr></table style=\"display:inline\">"
      ]
     },
     "metadata": {},
     "output_type": "display_data"
    }
   ],
   "source": [
    "data_train = pd.read_csv(\"divar_train.csv\")\n",
    "data_test = pd.read_csv(\"divar_test.csv\")\n",
    "mydisplay([data_train[5:10], data_test[26:31]], ['Train', 'Test'])"
   ]
  },
  {
   "cell_type": "markdown",
   "metadata": {
    "id": "NsuQaHI7jSAX"
   },
   "source": [
    "[link](https://github.com/kharazi/persian-stopwords)"
   ]
  },
  {
   "cell_type": "code",
   "execution_count": 7,
   "metadata": {
    "colab": {
     "base_uri": "https://localhost:8080/"
    },
    "executionInfo": {
     "elapsed": 18,
     "status": "ok",
     "timestamp": 1642900558262,
     "user": {
      "displayName": "Sepehr Babapour",
      "photoUrl": "https://lh3.googleusercontent.com/a-/AOh14GhkXqkE-OIMRLdVND22cwT1mLsLRd6gexMXR7mBQA=s64",
      "userId": "06632104842284419853"
     },
     "user_tz": -210
    },
    "id": "zHSrS6ItdMOM",
    "outputId": "288e0764-aad2-474e-d9c1-fbe75ab1006f"
   },
   "outputs": [
    {
     "data": {
      "text/plain": [
       "['منی', 'مگر آن که', 'گرفتید', 'اخیرا', 'برابر']"
      ]
     },
     "execution_count": 7,
     "metadata": {},
     "output_type": "execute_result"
    }
   ],
   "source": [
    "normalizer = Normalizer()\n",
    "stemmer = Stemmer()\n",
    "lemmatizer = Lemmatizer()\n",
    "stop_words = list(set([normalizer.normalize(w) for w in codecs.open('persian', encoding='utf-8').read().split('\\n') if w]))\n",
    "random.sample(stop_words, 5)"
   ]
  },
  {
   "cell_type": "code",
   "execution_count": 8,
   "metadata": {
    "executionInfo": {
     "elapsed": 14,
     "status": "ok",
     "timestamp": 1642900558263,
     "user": {
      "displayName": "Sepehr Babapour",
      "photoUrl": "https://lh3.googleusercontent.com/a-/AOh14GhkXqkE-OIMRLdVND22cwT1mLsLRd6gexMXR7mBQA=s64",
      "userId": "06632104842284419853"
     },
     "user_tz": -210
    },
    "id": "PFBLaQ1IofR3"
   },
   "outputs": [],
   "source": [
    "def clean_str(s):\n",
    "    s = normalizer.normalize(s)\n",
    "    # s = stemmer.stem(s)\n",
    "    # s = lemmatizer.lemmatize(s)\n",
    "    s = word_tokenize(s)\n",
    "    return [w for w in s if w not in stop_words]"
   ]
  },
  {
   "cell_type": "code",
   "execution_count": 9,
   "metadata": {
    "colab": {
     "base_uri": "https://localhost:8080/",
     "height": 234
    },
    "executionInfo": {
     "elapsed": 6864,
     "status": "ok",
     "timestamp": 1642900565565,
     "user": {
      "displayName": "Sepehr Babapour",
      "photoUrl": "https://lh3.googleusercontent.com/a-/AOh14GhkXqkE-OIMRLdVND22cwT1mLsLRd6gexMXR7mBQA=s64",
      "userId": "06632104842284419853"
     },
     "user_tz": -210
    },
    "id": "mlKNvFzDjyI9",
    "outputId": "b5019756-64c2-4a7f-f9d6-1116ab141858"
   },
   "outputs": [
    {
     "data": {
      "text/html": [
       "<table style=\"display:inline\"><tr><td style=\"text-align:center\"><b>Train<b></td><td style=\"text-align:center\"><b>Test<b></td></tr><tr><td style=\"vertical-align:top\"> <table style=\"display:inline\" border=\"1\" class=\"dataframe\">\n",
       "  <thead>\n",
       "    <tr style=\"text-align: right;\">\n",
       "      <th>title</th>\n",
       "      <th>description</th>\n",
       "      <th>categories</th>\n",
       "    </tr>\n",
       "  </thead>\n",
       "  <tbody>\n",
       "    <tr>\n",
       "      <td>[کمدوبوفه]</td>\n",
       "      <td>[وسایل, حد, نو, مشتری, تخفیف, میدم]</td>\n",
       "      <td>personal</td>\n",
       "    </tr>\n",
       "    <tr>\n",
       "      <td>[فروش, دوچرخه, ۲۰]</td>\n",
       "      <td>[بخاطر, جابجایی, فروش, وبه, خریدار, تخفیف, خوبی, میدم, مشتری, تماس]</td>\n",
       "      <td>leisure-hobbies</td>\n",
       "    </tr>\n",
       "    <tr>\n",
       "      <td>[تلویزیون, ال, سی, دی]</td>\n",
       "      <td>[تلویزیون, سونی, کار, سالم]</td>\n",
       "      <td>electronic-devices</td>\n",
       "    </tr>\n",
       "    <tr>\n",
       "      <td>[فروشی]</td>\n",
       "      <td>[تلویزیون, فروشی, ۲۱, اینچ, اسنوا]</td>\n",
       "      <td>electronic-devices</td>\n",
       "    </tr>\n",
       "    <tr>\n",
       "      <td>[چادر, ١٠, نفره, نونونو, قیمت, مناسب]</td>\n",
       "      <td>[چادر, نفره, جنس, تخفیف, یاعلی]</td>\n",
       "      <td>leisure-hobbies</td>\n",
       "    </tr>\n",
       "  </tbody>\n",
       "</table style=\"display:inline\"></td><td style=\"vertical-align:top\"> <table style=\"display:inline\" border=\"1\" class=\"dataframe\">\n",
       "  <thead>\n",
       "    <tr style=\"text-align: right;\">\n",
       "      <th>title</th>\n",
       "      <th>description</th>\n",
       "      <th>categories</th>\n",
       "    </tr>\n",
       "  </thead>\n",
       "  <tbody>\n",
       "    <tr>\n",
       "      <td>[۱۱۱, -دولفینی-فول]</td>\n",
       "      <td>[رنگ, -کم, کار-فول, sx-بیمه, ۱۳۹۶/۰۲/۰۱]</td>\n",
       "      <td>vehicles</td>\n",
       "    </tr>\n",
       "    <tr>\n",
       "      <td>[عینک, آفتابی]</td>\n",
       "      <td>[عینک, آفتابی, ١٠٠, ٪‏, UV, Protection]</td>\n",
       "      <td>personal</td>\n",
       "    </tr>\n",
       "    <tr>\n",
       "      <td>[موتور, تزیینی]</td>\n",
       "      <td>[جنس, اهن, کار, دست, عرضه, تکی]</td>\n",
       "      <td>for-the-home</td>\n",
       "    </tr>\n",
       "    <tr>\n",
       "      <td>[میز, تلویزیون, شیشه, ایی]</td>\n",
       "      <td>[تمیز, سالم, خط, خش]</td>\n",
       "      <td>for-the-home</td>\n",
       "    </tr>\n",
       "    <tr>\n",
       "      <td>[سرویس, چاقو, خارجی]</td>\n",
       "      <td>[سرویس, چاقو, ژاپنی, مال, فدیم, سالم, نو, بع, قیمت, ۶۰, تومن, بفروش, میرسد]</td>\n",
       "      <td>for-the-home</td>\n",
       "    </tr>\n",
       "  </tbody>\n",
       "</table style=\"display:inline\"></td></tr></table style=\"display:inline\">"
      ]
     },
     "metadata": {},
     "output_type": "display_data"
    }
   ],
   "source": [
    "preprocessed_data_train = data_train.copy()\n",
    "preprocessed_data_train[['title', 'description']] = preprocessed_data_train[['title', 'description']].applymap(lambda x: clean_str(x))\n",
    "preprocessed_data_test = data_test.copy()\n",
    "preprocessed_data_test[['title', 'description']] = preprocessed_data_test[['title', 'description']].applymap(lambda x: clean_str(x))\n",
    "mydisplay([preprocessed_data_train[5:10], preprocessed_data_test[26:31]], ['Train', 'Test'])"
   ]
  },
  {
   "cell_type": "markdown",
   "metadata": {
    "id": "2suxrw3gy-Hf"
   },
   "source": [
    "# Section 2"
   ]
  },
  {
   "cell_type": "markdown",
   "metadata": {},
   "source": [
    "<p style=\"direction:rtl\"> \n",
    "    در این قسمت بنا داریم که احتمال وقوع یک کلاس یا\n",
    "    category \n",
    "    را با دانستن کلمات خاصی به دست آوریم. احتمالی که در تصویر زیر با \n",
    "    $P(c|x)$ \n",
    "    نشان داده شده است. برای پیدا کردن این مقدار ابتدا باید\n",
    "    likelihood \n",
    "    کلماتی که داخل آن کتگوری هستند را به دست بیاوریم. سپس این مقدار را در احتمال پیش‌فرض\n",
    "    (prior probability) \n",
    "    ضرب کنیم. \n",
    "\n",
    "\n",
    "</p>"
   ]
  },
  {
   "attachments": {
    "BayesFormula.PNG": {
     "image/png": "[encoded data removed]"
    }
   },
   "cell_type": "markdown",
   "metadata": {},
   "source": [
    "![BayesFormula.PNG](attachment:BayesFormula.PNG)"
   ]
  },
  {
   "cell_type": "markdown",
   "metadata": {},
   "source": [
    "<p style=\"direction:rtl\">\n",
    "    در این جا احتمال پیش‌فرض درواقع احتمال برخورد با کلمات خاصی است. به همین ترتیب \n",
    "    $P(c)$ \n",
    "    نیز احتمال برخورد با یک کتگوری مشخص مثل \n",
    "    $c$ \n",
    "    است و \n",
    "    $P(x)$ \n",
    "    نیز احتمال برخورد با کلمه‌ای مثل \n",
    "    $x$\n",
    "    . با توجه به این که ۶ کتگوری مختلف داریم، می‌توانیم فرض کنیم که به ازای هر کتگوری مثل\n",
    "    $c$ \n",
    "    مقدار \n",
    "    $P(c) = \\frac{1}{6}$. \n",
    "    \n",
    "</p>"
   ]
  },
  {
   "cell_type": "code",
   "execution_count": 10,
   "metadata": {
    "executionInfo": {
     "elapsed": 12,
     "status": "ok",
     "timestamp": 1642900565565,
     "user": {
      "displayName": "Sepehr Babapour",
      "photoUrl": "https://lh3.googleusercontent.com/a-/AOh14GhkXqkE-OIMRLdVND22cwT1mLsLRd6gexMXR7mBQA=s64",
      "userId": "06632104842284419853"
     },
     "user_tz": -210
    },
    "id": "cIfDJbOjzADY"
   },
   "outputs": [],
   "source": [
    "CATEGORIES = [\"vehicles\", \"electronic-devices\", \"businesses\", \"for-the-home\", \"personal\", \"leisure-hobbies\"]"
   ]
  },
  {
   "cell_type": "code",
   "execution_count": 11,
   "metadata": {
    "colab": {
     "base_uri": "https://localhost:8080/",
     "height": 234
    },
    "executionInfo": {
     "elapsed": 12,
     "status": "ok",
     "timestamp": 1642900565566,
     "user": {
      "displayName": "Sepehr Babapour",
      "photoUrl": "https://lh3.googleusercontent.com/a-/AOh14GhkXqkE-OIMRLdVND22cwT1mLsLRd6gexMXR7mBQA=s64",
      "userId": "06632104842284419853"
     },
     "user_tz": -210
    },
    "id": "8wB4RkAOzM7H",
    "outputId": "dd529d8e-5ded-478f-f66e-8cbef8017c46"
   },
   "outputs": [
    {
     "data": {
      "text/html": [
       "<table style=\"display:inline\"><tr><td style=\"text-align:center\"><b>Train<b></td><td style=\"text-align:center\"><b>Test<b></td></tr><tr><td style=\"vertical-align:top\"> <table style=\"display:inline\" border=\"1\" class=\"dataframe\">\n",
       "  <thead>\n",
       "    <tr style=\"text-align: right;\">\n",
       "      <th>data</th>\n",
       "      <th>categories</th>\n",
       "    </tr>\n",
       "  </thead>\n",
       "  <tbody>\n",
       "    <tr>\n",
       "      <td>[کمدوبوفه, وسایل, حد, نو, مشتری, تخفیف, میدم]</td>\n",
       "      <td>personal</td>\n",
       "    </tr>\n",
       "    <tr>\n",
       "      <td>[فروش, دوچرخه, ۲۰, بخاطر, جابجایی, فروش, وبه, خریدار, تخفیف, خوبی, میدم, مشتری, تماس]</td>\n",
       "      <td>leisure-hobbies</td>\n",
       "    </tr>\n",
       "    <tr>\n",
       "      <td>[تلویزیون, ال, سی, دی, تلویزیون, سونی, کار, سالم]</td>\n",
       "      <td>electronic-devices</td>\n",
       "    </tr>\n",
       "    <tr>\n",
       "      <td>[فروشی, تلویزیون, فروشی, ۲۱, اینچ, اسنوا]</td>\n",
       "      <td>electronic-devices</td>\n",
       "    </tr>\n",
       "    <tr>\n",
       "      <td>[چادر, ١٠, نفره, نونونو, قیمت, مناسب, چادر, نفره, جنس, تخفیف, یاعلی]</td>\n",
       "      <td>leisure-hobbies</td>\n",
       "    </tr>\n",
       "  </tbody>\n",
       "</table style=\"display:inline\"></td><td style=\"vertical-align:top\"> <table style=\"display:inline\" border=\"1\" class=\"dataframe\">\n",
       "  <thead>\n",
       "    <tr style=\"text-align: right;\">\n",
       "      <th>data</th>\n",
       "      <th>categories</th>\n",
       "    </tr>\n",
       "  </thead>\n",
       "  <tbody>\n",
       "    <tr>\n",
       "      <td>[۱۱۱, -دولفینی-فول, رنگ, -کم, کار-فول, sx-بیمه, ۱۳۹۶/۰۲/۰۱]</td>\n",
       "      <td>vehicles</td>\n",
       "    </tr>\n",
       "    <tr>\n",
       "      <td>[عینک, آفتابی, عینک, آفتابی, ١٠٠, ٪‏, UV, Protection]</td>\n",
       "      <td>personal</td>\n",
       "    </tr>\n",
       "    <tr>\n",
       "      <td>[موتور, تزیینی, جنس, اهن, کار, دست, عرضه, تکی]</td>\n",
       "      <td>for-the-home</td>\n",
       "    </tr>\n",
       "    <tr>\n",
       "      <td>[میز, تلویزیون, شیشه, ایی, تمیز, سالم, خط, خش]</td>\n",
       "      <td>for-the-home</td>\n",
       "    </tr>\n",
       "    <tr>\n",
       "      <td>[سرویس, چاقو, خارجی, سرویس, چاقو, ژاپنی, مال, فدیم, سالم, نو, بع, قیمت, ۶۰, تومن, بفروش, میرسد]</td>\n",
       "      <td>for-the-home</td>\n",
       "    </tr>\n",
       "  </tbody>\n",
       "</table style=\"display:inline\"></td></tr></table style=\"display:inline\">"
      ]
     },
     "metadata": {},
     "output_type": "display_data"
    }
   ],
   "source": [
    "joined_data_train = preprocessed_data_train.copy()\n",
    "joined_data_train['data'] = preprocessed_data_train['title'] + preprocessed_data_train['description']\n",
    "joined_data_train.drop(['title', 'description'], axis=1, inplace=True)\n",
    "joined_data_train = joined_data_train[['data', 'categories']]\n",
    "\n",
    "joined_data_test = preprocessed_data_test.copy()\n",
    "joined_data_test['data'] = preprocessed_data_test['title'] + preprocessed_data_test['description']\n",
    "joined_data_test.drop(['title', 'description'], axis=1, inplace=True)\n",
    "joined_data_test = joined_data_test[['data', 'categories']]\n",
    "\n",
    "mydisplay([joined_data_train[5:10], joined_data_test[26:31]], ['Train', 'Test'])"
   ]
  },
  {
   "cell_type": "markdown",
   "metadata": {},
   "source": [
    "<p style=\"direction:rtl\">\n",
    "    با توجه به داده‌های پایین یک‌سری نتیجه گیری داریم از جمله این که:\n",
    "    دسته‌بندی خودرو ۲۶۴۹۲ کلمه دارد. با توجه به مقادیر زیر می‌توان مشاهده کرد که توزیع مقادیر درمورد تعداد کلمات هر\n",
    "    دسته به صورت نرمال است. تا این‌جای کار ما مدل خود را آموزش داده‌ایم و از این‌جا به بعد سراغ دیتاست \n",
    "    train \n",
    "    می‌رویم تا با استفاده از متد \n",
    "    naive bayes \n",
    "    که پیش از این درمورد آن توضیح دادیم، مقادیر مربوط به دیتاست را به دست بیاوریم.\n",
    "    \n",
    "</p>"
   ]
  },
  {
   "cell_type": "code",
   "execution_count": 12,
   "metadata": {
    "colab": {
     "base_uri": "https://localhost:8080/"
    },
    "executionInfo": {
     "elapsed": 11,
     "status": "ok",
     "timestamp": 1642900565566,
     "user": {
      "displayName": "Sepehr Babapour",
      "photoUrl": "https://lh3.googleusercontent.com/a-/AOh14GhkXqkE-OIMRLdVND22cwT1mLsLRd6gexMXR7mBQA=s64",
      "userId": "06632104842284419853"
     },
     "user_tz": -210
    },
    "id": "y5E1aCoU0m23",
    "outputId": "e6d5e7f9-47bf-49cc-f58b-a8c886f20ed6"
   },
   "outputs": [
    {
     "data": {
      "text/plain": [
       "{'businesses': 24037,\n",
       " 'electronic-devices': 27856,\n",
       " 'for-the-home': 19614,\n",
       " 'leisure-hobbies': 24753,\n",
       " 'personal': 21707,\n",
       " 'vehicles': 26492}"
      ]
     },
     "execution_count": 12,
     "metadata": {},
     "output_type": "execute_result"
    }
   ],
   "source": [
    "category_size = {category: 0 for category in CATEGORIES}\n",
    "for category in CATEGORIES:\n",
    "    category_size[category] = sum(joined_data_train[joined_data_train['categories'] == category]['data'].str.len())\n",
    "category_size"
   ]
  },
  {
   "cell_type": "code",
   "execution_count": 13,
   "metadata": {
    "colab": {
     "base_uri": "https://localhost:8080/"
    },
    "executionInfo": {
     "elapsed": 9,
     "status": "ok",
     "timestamp": 1642900565567,
     "user": {
      "displayName": "Sepehr Babapour",
      "photoUrl": "https://lh3.googleusercontent.com/a-/AOh14GhkXqkE-OIMRLdVND22cwT1mLsLRd6gexMXR7mBQA=s64",
      "userId": "06632104842284419853"
     },
     "user_tz": -210
    },
    "id": "3qyp3yOX4jSt",
    "outputId": "d5d0f512-a0ad-47f0-f030-79b2daa2fa9c"
   },
   "outputs": [
    {
     "data": {
      "text/plain": [
       "292"
      ]
     },
     "execution_count": 13,
     "metadata": {},
     "output_type": "execute_result"
    }
   ],
   "source": [
    "category_dict = {category: dict() for category in CATEGORIES}\n",
    "for category in CATEGORIES:\n",
    "    for words in joined_data_train[joined_data_train['categories'] == category]['data']:\n",
    "        for word in words:\n",
    "            if word in category_dict[category]:\n",
    "                category_dict[category][word] += 1\n",
    "            else:\n",
    "                category_dict[category][word] = 1\n",
    "category_dict['leisure-hobbies']['فروش']"
   ]
  },
  {
   "cell_type": "code",
   "execution_count": 14,
   "metadata": {
    "colab": {
     "base_uri": "https://localhost:8080/"
    },
    "executionInfo": {
     "elapsed": 656,
     "status": "ok",
     "timestamp": 1642900566216,
     "user": {
      "displayName": "Sepehr Babapour",
      "photoUrl": "https://lh3.googleusercontent.com/a-/AOh14GhkXqkE-OIMRLdVND22cwT1mLsLRd6gexMXR7mBQA=s64",
      "userId": "06632104842284419853"
     },
     "user_tz": -210
    },
    "id": "8vPiraok6fqt",
    "outputId": "ebb0eb65-bdc8-4795-9bf4-6ca6d1db132f"
   },
   "outputs": [
    {
     "name": "stdout",
     "output_type": "stream",
     "text": [
      "Number of correct answers: 40\n",
      "Total number of test data: 1800\n",
      "Accuracy: 0.022222222222222223\n"
     ]
    }
   ],
   "source": [
    "import math\n",
    "\n",
    "tp = {category: 0 for category in CATEGORIES}\n",
    "fp = {category: 0 for category in CATEGORIES}\n",
    "fn = {category: 0 for category in CATEGORIES}\n",
    "\n",
    "correct_count = 0\n",
    "for index, row in joined_data_test.iterrows():\n",
    "    probs = {category: 0 for category in CATEGORIES}\n",
    "    for category in CATEGORIES:\n",
    "        for word in row['data']:\n",
    "            if word in category_dict[category]:\n",
    "                # probs[category] *= (category_dict[category][word] / category_size[category])\n",
    "                probs[category] += (math.log(category_dict[category][word]) - math.log(category_size[category]))\n",
    "    \n",
    "    pred_category = sorted(probs.items(), key= lambda x: x[1], reverse=True)[0][0]\n",
    "    true_category = row['categories']\n",
    "    if pred_category == true_category:\n",
    "        tp[true_category] += 1\n",
    "        correct_count += 1\n",
    "    else:\n",
    "        fp[pred_category] += 1\n",
    "        fn[true_category] += 1\n",
    "print(f\"Number of correct answers: {correct_count}\")\n",
    "print(f\"Total number of test data: {len(list(joined_data_test.iterrows()))}\")\n",
    "accuracy = correct_count / len(list(joined_data_test.iterrows()))\n",
    "print(f\"Accuracy: {accuracy}\")"
   ]
  },
  {
   "cell_type": "markdown",
   "metadata": {},
   "source": [
    "# Section 3"
   ]
  },
  {
   "cell_type": "markdown",
   "metadata": {},
   "source": [
    "<p style=\"direction:rtl\">\n",
    "    در این‌جا خوب است که از متد \n",
    "    n-grams \n",
    "    استفاده کنیم. این روش به ما کمک می‌کند که کلمات را به صورت دقیق‌تری تعریف کنیم. به عنوان مثال کلمه‌ای مثل\n",
    "    «در ماشین» \n",
    "    را در نظر بگیرید. درصورتی که از \n",
    "    n-grams \n",
    "    استفاده نکنیم، کلمه در به عنوان یک کلمه که باید حذف شود شناسایی شده و عملاً \n",
    "    عبارت «در ماشین» به آن معنای درستش در ساختار یادگیری ما ظاهر نمی‌شود. (البته باید توجه داشت که در این\n",
    "    مثال خاص ما از \n",
    "    bigram \n",
    "    استفاده می‌کنیم). با استفاده از \n",
    "    bigram \n",
    "    و در حالت کلی \n",
    "    n-gram \n",
    "    می‌توان از رخ دادن اتفاقات نامطلوب این‌چنینی پیشگیری کرد.\n",
    "\n",
    "</p>"
   ]
  },
  {
   "cell_type": "markdown",
   "metadata": {},
   "source": [
    "# Section 4"
   ]
  },
  {
   "cell_type": "markdown",
   "metadata": {},
   "source": [
    "<p style=\"direction:rtl\">\n",
    "    پیش از بررسی این قسمت دو فرمول زیر که در محاسبات ما استفاده شده‌اند را در نظر بگیرید.\n",
    "\n",
    "</p>"
   ]
  },
  {
   "attachments": {
    "Probability1.png": {
     "image/png": "[encoded data removed]"
    }
   },
   "cell_type": "markdown",
   "metadata": {},
   "source": [
    "![Probability1.png](attachment:Probability1.png)"
   ]
  },
  {
   "attachments": {
    "Probability2.png": {
     "image/png": "[encoded data removed]"
    }
   },
   "cell_type": "markdown",
   "metadata": {},
   "source": [
    "![Probability2.png](attachment:Probability2.png)"
   ]
  },
  {
   "cell_type": "markdown",
   "metadata": {},
   "source": [
    "<p style=\"direction:rtl\">\n",
    "    در فرمولی که در قسمت دوم بررسی کردیم، ما کسر \n",
    "    $\\frac{P(c)}{P(x)}$ \n",
    "    را در مقدار \n",
    "    $P(x|c)$ \n",
    "    ضرب می‌کنیم. این عملیات باعث می‌شود در حالت‌هایی که کلمه \n",
    "    $x$ \n",
    "    در فایل آموزش ابتدایی نیست، مقدار نهایی برابر با صفر بشود. برای جلوگیری از وقوع چنین چیزی\n",
    "    از روش \n",
    "    additive smoothing \n",
    "    استفاده می‌کنیم. این کار باعث می‌شود که \n",
    "    bias \n",
    "    بیهوده‌ای که در رابطه با کلمات خاصی داشتیم، از بین برود. برای چنین کلماتی از فرمول بالا استفاده می‌کنیم.\n",
    "\n",
    "\n",
    "</p>"
   ]
  },
  {
   "cell_type": "markdown",
   "metadata": {
    "id": "BR44kzDgNgFm"
   },
   "source": [
    "# Section 5"
   ]
  },
  {
   "cell_type": "code",
   "execution_count": 15,
   "metadata": {
    "colab": {
     "base_uri": "https://localhost:8080/"
    },
    "executionInfo": {
     "elapsed": 443,
     "status": "ok",
     "timestamp": 1642900566656,
     "user": {
      "displayName": "Sepehr Babapour",
      "photoUrl": "https://lh3.googleusercontent.com/a-/AOh14GhkXqkE-OIMRLdVND22cwT1mLsLRd6gexMXR7mBQA=s64",
      "userId": "06632104842284419853"
     },
     "user_tz": -210
    },
    "id": "Xja6_QRdAJJb",
    "outputId": "e94077d6-95df-4e46-b83d-4a7bbbec83c7"
   },
   "outputs": [
    {
     "name": "stdout",
     "output_type": "stream",
     "text": [
      "Number of correct answers: 1554\n",
      "Total number of test data: 1800\n",
      "Accuracy: 0.8633333333333333\n"
     ]
    }
   ],
   "source": [
    "import math\n",
    "\n",
    "tp_additive = {category: 0 for category in CATEGORIES}\n",
    "fp_additive = {category: 0 for category in CATEGORIES}\n",
    "fn_additive = {category: 0 for category in CATEGORIES}\n",
    "false_answers = list()\n",
    "\n",
    "correct_count_additive = 0\n",
    "for index, row in joined_data_test.iterrows():\n",
    "    probs = {category: 0 for category in CATEGORIES}\n",
    "    for category in CATEGORIES:\n",
    "        for word in row['data']:\n",
    "            if word in category_dict[category]:\n",
    "                probs[category] += (math.log(1+category_dict[category][word]) - math.log(1+category_size[category]))\n",
    "            else:\n",
    "                probs[category] += (math.log(1) - math.log(1+len(category_dict[category])+category_size[category]))\n",
    "    \n",
    "    pred_category = sorted(probs.items(), key= lambda x: x[1], reverse=True)[0][0]\n",
    "    true_category = row['categories']\n",
    "    if pred_category == true_category:\n",
    "        tp_additive[true_category] += 1\n",
    "        correct_count_additive += 1\n",
    "    else:\n",
    "        fp_additive[pred_category] += 1\n",
    "        fn_additive[true_category] += 1\n",
    "        false_answers.append({\n",
    "            'idx': index,\n",
    "            'true_category': true_category,\n",
    "            'pred_category': pred_category\n",
    "        })\n",
    "print(f\"Number of correct answers: {correct_count_additive}\")\n",
    "print(f\"Total number of test data: {len(list(joined_data_test.iterrows()))}\")\n",
    "accuracy_additive = correct_count_additive / len(list(joined_data_test.iterrows()))\n",
    "print(f\"Accuracy: {accuracy_additive}\")"
   ]
  },
  {
   "cell_type": "markdown",
   "metadata": {},
   "source": [
    "<p style=\"direction:rtl\">\n",
    "    با بررسی نتایج بالا می‌توان مشاهده کرد وقتی که از متد \n",
    "    additive smoothing \n",
    "    استفاده می‌کنیم دقت راه‌حل به‌دست آمده چقدر بیشتر خواهد شد! این اتفاق از این جهت می‌افتد که توانسته‌ایم \n",
    "    حالت‌هایی که در آن‌ها در دیتاست تست با کلمات جدید روبرو شده‌ایم را به خوبی مدیریت کنیم.\n",
    "\n",
    "</p>"
   ]
  },
  {
   "cell_type": "markdown",
   "metadata": {
    "id": "QZyvzW5bNrA0"
   },
   "source": [
    "# Section 6"
   ]
  },
  {
   "cell_type": "code",
   "execution_count": 16,
   "metadata": {
    "executionInfo": {
     "elapsed": 471,
     "status": "ok",
     "timestamp": 1642900567126,
     "user": {
      "displayName": "Sepehr Babapour",
      "photoUrl": "https://lh3.googleusercontent.com/a-/AOh14GhkXqkE-OIMRLdVND22cwT1mLsLRd6gexMXR7mBQA=s64",
      "userId": "06632104842284419853"
     },
     "user_tz": -210
    },
    "id": "_C4KDRtBOpuU"
   },
   "outputs": [],
   "source": [
    "import matplotlib.pyplot as plt\n",
    "import seaborn as sn\n",
    "import numpy as np\n",
    "\n",
    "sn.set_style(\"darkgrid\")"
   ]
  },
  {
   "cell_type": "code",
   "execution_count": 17,
   "metadata": {
    "executionInfo": {
     "elapsed": 4,
     "status": "ok",
     "timestamp": 1642900567126,
     "user": {
      "displayName": "Sepehr Babapour",
      "photoUrl": "https://lh3.googleusercontent.com/a-/AOh14GhkXqkE-OIMRLdVND22cwT1mLsLRd6gexMXR7mBQA=s64",
      "userId": "06632104842284419853"
     },
     "user_tz": -210
    },
    "id": "nyjQnGOnMTW6"
   },
   "outputs": [],
   "source": [
    "def plot_bars():\n",
    "    f, ax = plt.subplots(2, 3, figsize=(24,9),\n",
    "                            gridspec_kw={'wspace':0.1, 'hspace':0.4}, \n",
    "                            squeeze=True)\n",
    "    \n",
    "    f.suptitle(f'Most Frequent Words', fontweight ='bold')\n",
    "    f.subplots_adjust(top=0.9)\n",
    "\n",
    "    for n, category in enumerate(CATEGORIES):\n",
    "        i = n // ax.shape[1]\n",
    "        j = n % ax.shape[1]\n",
    "\n",
    "        dictionary = category_dict[category]\n",
    "        dictionary_length = 6\n",
    "        sorted_dict_values = sorted(dictionary.values(), reverse=True)[:6]\n",
    "        sorted_dict_keys = sorted(dictionary, key=dictionary.get, reverse=True)[:6]\n",
    "\n",
    "        X = np.arange(dictionary_length)\n",
    "        for k in range(0, dictionary_length):\n",
    "            ax[i, j].bar(sorted_dict_keys[k], sorted_dict_values[k], align='center',width=0.5)\n",
    "\n",
    "        plt.sca(ax[i, j])\n",
    "        ax[i, j].set_xticks(X)\n",
    "        xtickNames = ax[i, j].set_xticklabels(sorted_dict_keys)\n",
    "        plt.xticks(rotation=90)\n",
    "\n",
    "        ax[i, j].set_title(category)\n",
    "\n",
    "    plt.show()"
   ]
  },
  {
   "cell_type": "code",
   "execution_count": 18,
   "metadata": {
    "colab": {
     "base_uri": "https://localhost:8080/",
     "height": 632
    },
    "executionInfo": {
     "elapsed": 1596,
     "status": "ok",
     "timestamp": 1642900568719,
     "user": {
      "displayName": "Sepehr Babapour",
      "photoUrl": "https://lh3.googleusercontent.com/a-/AOh14GhkXqkE-OIMRLdVND22cwT1mLsLRd6gexMXR7mBQA=s64",
      "userId": "06632104842284419853"
     },
     "user_tz": -210
    },
    "id": "0-_1mvyrOPXB",
    "outputId": "148fc288-fa73-4b00-f49b-45d4e6e9900b"
   },
   "outputs": [
    {
     "data": {
      "image/png": "[encoded data removed]",
      "text/plain": [
       "<Figure size 1728x648 with 6 Axes>"
      ]
     },
     "metadata": {},
     "output_type": "display_data"
    }
   ],
   "source": [
    "plot_bars()"
   ]
  },
  {
   "cell_type": "markdown",
   "metadata": {},
   "source": [
    "# Section 7"
   ]
  },
  {
   "cell_type": "markdown",
   "metadata": {},
   "source": [
    "<p style=\"direction:rtl\">\n",
    "    \n",
    "قبل از بررسی قسمت‌های بعدی، فرمول‌های زیر را برای \n",
    "    attributeهای\n",
    "    گفته شده در نظر بگیرید.\n",
    "\n",
    "</p>"
   ]
  },
  {
   "attachments": {
    "AttributesFormula.png": {
     "image/png": "[encoded data removed]"
    }
   },
   "cell_type": "markdown",
   "metadata": {},
   "source": [
    "![AttributesFormula.png](attachment:AttributesFormula.png)"
   ]
  },
  {
   "cell_type": "markdown",
   "metadata": {},
   "source": [
    "<p style=\"direction:rtl\">\n",
    "    حالتی را در نظر بگیرید که \n",
    "    classifier \n",
    "    ما همیشه تنها یک کلاس خاص مثل \n",
    "    personal \n",
    "    را به عنوان جواب انتخاب کند.\n",
    "    در چنین حالتی مقدار \n",
    "    Recall \n",
    "    برای این کلاس برابر با ۱۰۰ درصد خواهد بود. این به این معنی است که بایاس خیلی زیادی داریم. از طرف دیگر \n",
    "    اگر \n",
    "    تعداد prediction\n",
    "    مدل ما به اندازه کافی نباشد، جواب‌های خطای معقولی نخواهیم داشت.\n",
    "    این به این معنی است که دقت یا به عبارت دیگر مقدار \n",
    "    Precision \n",
    "    در ابتدای کار بسیار زیاد خواهد شد.\n",
    "</p>"
   ]
  },
  {
   "cell_type": "markdown",
   "metadata": {},
   "source": [
    "# Section 8"
   ]
  },
  {
   "cell_type": "markdown",
   "metadata": {},
   "source": [
    "<p style=\"direction:rtl\">\n",
    "    با توجه به فرمول‌های بالا مقدار \n",
    "    F1 \n",
    "    برابر با میانگین \n",
    "    Recall و Precision است.\n",
    "    به این ترتیب اگر بخواهیم \n",
    "    Precision را\n",
    "    بهتر کنیم، در این صورت مقدار \n",
    "    Recall \n",
    "    کم می‌شود (با فرض این که مقدار \n",
    "    F1 \n",
    "    ثابت باشد).\n",
    "    از طرف دیگر اگر بخواهیم مقدار \n",
    "    F1 را\n",
    "    افزایش دهیم هر دو مقدار \n",
    "    Recall و Precision \n",
    "    باید افزایش پیدا کنند. به این ترتیب اگر بخواهیم مدلی داشته باشیم که مقدار این دو ویژگی در آن‌ها در حالت\n",
    "    بهینه باشد، اولاً باید هر دو بیشترین مقدار ممکن را داشته باشند و ثانیاً این که تفاوت بین آن‌ها نیز زیاد نباشد. \n",
    "    هر دو این ویژگی‌ها ما را به سمت بیشتر کردن مقدار \n",
    "    F1 \n",
    "    می‌برد. \n",
    "\n",
    "\n",
    "</p>"
   ]
  },
  {
   "cell_type": "markdown",
   "metadata": {},
   "source": [
    "# Section 9"
   ]
  },
  {
   "cell_type": "markdown",
   "metadata": {},
   "source": [
    "<p style=\"direction:rtl\">\n",
    "    با توجه به خواسته دستور کار تعاریف خواسته شده به صورت زیر هستند:\n",
    "</p>\n",
    "\n",
    "<p style=\"direction:rtl\">\n",
    "    اول Macro-F1 را بررسی می‌کنیم: \n",
    "    میانگین حسابی تمام مقادیر F1\n",
    "    برای کتگوری‌های مختلف است. بدون این که سایز یا تعداد اعضای هر کلاس را در نظر بگیریم.\n",
    "</p>\n",
    "\n",
    "<p style=\"direction:rtl\">\n",
    "    مقدار Weighted-F1 \n",
    "    در واقع مجموع وزن‌دار تمامی مقادیر F1 \n",
    "    برای کلاس‌های مختلف است. وزن هر جمعوند با توجه به تعداد اعضای کلاس مربوط به کلاس متناظر آن مشخص می‌شود.\n",
    "</p>\n",
    "\n",
    "<p style=\"direction:rtl\">\n",
    "    در نهایت مقدار \n",
    "    Micro-F1 نیز\n",
    "    حاصل جمعی از میانگین میکروی مقادیر Precision \n",
    "    و میانگین میکروی Recall \n",
    "    در هر کلاس است. به ازای تمام \n",
    "    instanceها \n",
    "    باید تعداد \n",
    "    FPها را برای \n",
    "    Precision و\n",
    "    تعداد FNها\n",
    "     را برای Recall \n",
    "    حساب کنیم. می‌توان این‌طور نتیجه‌گیری کرد که:\n",
    "    micro-F1 = micro-precision = micro-recall\n",
    "</p>"
   ]
  },
  {
   "cell_type": "markdown",
   "metadata": {
    "id": "ZHbAJz_ae1In"
   },
   "source": [
    "# Section 10"
   ]
  },
  {
   "cell_type": "markdown",
   "metadata": {
    "id": "b0ccab2d"
   },
   "source": [
    "<h2>Without Additive Smoothing</h2>"
   ]
  },
  {
   "cell_type": "code",
   "execution_count": 19,
   "metadata": {
    "colab": {
     "base_uri": "https://localhost:8080/",
     "height": 319
    },
    "executionInfo": {
     "elapsed": 16,
     "status": "ok",
     "timestamp": 1642900568719,
     "user": {
      "displayName": "Sepehr Babapour",
      "photoUrl": "https://lh3.googleusercontent.com/a-/AOh14GhkXqkE-OIMRLdVND22cwT1mLsLRd6gexMXR7mBQA=s64",
      "userId": "06632104842284419853"
     },
     "user_tz": -210
    },
    "id": "88866a6f",
    "outputId": "92ddd1c3-afe6-4aa8-bde5-91ed92cfd55c"
   },
   "outputs": [
    {
     "data": {
      "text/html": [
       "\n",
       "  <div id=\"df-a9db3527-b5c0-46bf-a018-495b9d158f48\">\n",
       "    <div class=\"colab-df-container\">\n",
       "      <div>\n",
       "<style scoped>\n",
       "    .dataframe tbody tr th:only-of-type {\n",
       "        vertical-align: middle;\n",
       "    }\n",
       "\n",
       "    .dataframe tbody tr th {\n",
       "        vertical-align: top;\n",
       "    }\n",
       "\n",
       "    .dataframe thead th {\n",
       "        text-align: right;\n",
       "    }\n",
       "</style>\n",
       "<table border=\"1\" class=\"dataframe\">\n",
       "  <thead>\n",
       "    <tr style=\"text-align: right;\">\n",
       "      <th></th>\n",
       "      <th>Category</th>\n",
       "      <th>True Positive</th>\n",
       "      <th>False Positive</th>\n",
       "      <th>False Negative</th>\n",
       "      <th>Precision</th>\n",
       "      <th>Recall</th>\n",
       "      <th>F1</th>\n",
       "    </tr>\n",
       "  </thead>\n",
       "  <tbody>\n",
       "    <tr>\n",
       "      <th>0</th>\n",
       "      <td>vehicles</td>\n",
       "      <td>4</td>\n",
       "      <td>433</td>\n",
       "      <td>296</td>\n",
       "      <td>0.009153</td>\n",
       "      <td>0.013333</td>\n",
       "      <td>0.010855</td>\n",
       "    </tr>\n",
       "    <tr>\n",
       "      <th>1</th>\n",
       "      <td>electronic-devices</td>\n",
       "      <td>7</td>\n",
       "      <td>344</td>\n",
       "      <td>293</td>\n",
       "      <td>0.019943</td>\n",
       "      <td>0.023333</td>\n",
       "      <td>0.021505</td>\n",
       "    </tr>\n",
       "    <tr>\n",
       "      <th>2</th>\n",
       "      <td>businesses</td>\n",
       "      <td>8</td>\n",
       "      <td>112</td>\n",
       "      <td>292</td>\n",
       "      <td>0.066667</td>\n",
       "      <td>0.026667</td>\n",
       "      <td>0.038095</td>\n",
       "    </tr>\n",
       "    <tr>\n",
       "      <th>3</th>\n",
       "      <td>for-the-home</td>\n",
       "      <td>9</td>\n",
       "      <td>402</td>\n",
       "      <td>291</td>\n",
       "      <td>0.021898</td>\n",
       "      <td>0.030000</td>\n",
       "      <td>0.025316</td>\n",
       "    </tr>\n",
       "    <tr>\n",
       "      <th>4</th>\n",
       "      <td>personal</td>\n",
       "      <td>7</td>\n",
       "      <td>332</td>\n",
       "      <td>293</td>\n",
       "      <td>0.020649</td>\n",
       "      <td>0.023333</td>\n",
       "      <td>0.021909</td>\n",
       "    </tr>\n",
       "    <tr>\n",
       "      <th>5</th>\n",
       "      <td>leisure-hobbies</td>\n",
       "      <td>5</td>\n",
       "      <td>137</td>\n",
       "      <td>295</td>\n",
       "      <td>0.035211</td>\n",
       "      <td>0.016667</td>\n",
       "      <td>0.022624</td>\n",
       "    </tr>\n",
       "  </tbody>\n",
       "</table>\n",
       "</div>\n",
       "      <button class=\"colab-df-convert\" onclick=\"convertToInteractive('df-a9db3527-b5c0-46bf-a018-495b9d158f48')\"\n",
       "              title=\"Convert this dataframe to an interactive table.\"\n",
       "              style=\"display:none;\">\n",
       "        \n",
       "  <svg xmlns=\"http://www.w3.org/2000/svg\" height=\"24px\"viewBox=\"0 0 24 24\"\n",
       "       width=\"24px\">\n",
       "    <path d=\"M0 0h24v24H0V0z\" fill=\"none\"/>\n",
       "    <path d=\"M18.56 5.44l.94 2.06.94-2.06 2.06-.94-2.06-.94-.94-2.06-.94 2.06-2.06.94zm-11 1L8.5 8.5l.94-2.06 2.06-.94-2.06-.94L8.5 2.5l-.94 2.06-2.06.94zm10 10l.94 2.06.94-2.06 2.06-.94-2.06-.94-.94-2.06-.94 2.06-2.06.94z\"/><path d=\"M17.41 7.96l-1.37-1.37c-.4-.4-.92-.59-1.43-.59-.52 0-1.04.2-1.43.59L10.3 9.45l-7.72 7.72c-.78.78-.78 2.05 0 2.83L4 21.41c.39.39.9.59 1.41.59.51 0 1.02-.2 1.41-.59l7.78-7.78 2.81-2.81c.8-.78.8-2.07 0-2.86zM5.41 20L4 18.59l7.72-7.72 1.47 1.35L5.41 20z\"/>\n",
       "  </svg>\n",
       "      </button>\n",
       "      \n",
       "  <style>\n",
       "    .colab-df-container {\n",
       "      display:flex;\n",
       "      flex-wrap:wrap;\n",
       "      gap: 12px;\n",
       "    }\n",
       "\n",
       "    .colab-df-convert {\n",
       "      background-color: #E8F0FE;\n",
       "      border: none;\n",
       "      border-radius: 50%;\n",
       "      cursor: pointer;\n",
       "      display: none;\n",
       "      fill: #1967D2;\n",
       "      height: 32px;\n",
       "      padding: 0 0 0 0;\n",
       "      width: 32px;\n",
       "    }\n",
       "\n",
       "    .colab-df-convert:hover {\n",
       "      background-color: #E2EBFA;\n",
       "      box-shadow: 0px 1px 2px rgba(60, 64, 67, 0.3), 0px 1px 3px 1px rgba(60, 64, 67, 0.15);\n",
       "      fill: #174EA6;\n",
       "    }\n",
       "\n",
       "    [theme=dark] .colab-df-convert {\n",
       "      background-color: #3B4455;\n",
       "      fill: #D2E3FC;\n",
       "    }\n",
       "\n",
       "    [theme=dark] .colab-df-convert:hover {\n",
       "      background-color: #434B5C;\n",
       "      box-shadow: 0px 1px 3px 1px rgba(0, 0, 0, 0.15);\n",
       "      filter: drop-shadow(0px 1px 2px rgba(0, 0, 0, 0.3));\n",
       "      fill: #FFFFFF;\n",
       "    }\n",
       "  </style>\n",
       "\n",
       "      <script>\n",
       "        const buttonEl =\n",
       "          document.querySelector('#df-a9db3527-b5c0-46bf-a018-495b9d158f48 button.colab-df-convert');\n",
       "        buttonEl.style.display =\n",
       "          google.colab.kernel.accessAllowed ? 'block' : 'none';\n",
       "\n",
       "        async function convertToInteractive(key) {\n",
       "          const element = document.querySelector('#df-a9db3527-b5c0-46bf-a018-495b9d158f48');\n",
       "          const dataTable =\n",
       "            await google.colab.kernel.invokeFunction('convertToInteractive',\n",
       "                                                     [key], {});\n",
       "          if (!dataTable) return;\n",
       "\n",
       "          const docLinkHtml = 'Like what you see? Visit the ' +\n",
       "            '<a target=\"_blank\" href=https://colab.research.google.com/notebooks/data_table.ipynb>data table notebook</a>'\n",
       "            + ' to learn more about interactive tables.';\n",
       "          element.innerHTML = '';\n",
       "          dataTable['output_type'] = 'display_data';\n",
       "          await google.colab.output.renderOutput(dataTable, element);\n",
       "          const docLink = document.createElement('div');\n",
       "          docLink.innerHTML = docLinkHtml;\n",
       "          element.appendChild(docLink);\n",
       "        }\n",
       "      </script>\n",
       "    </div>\n",
       "  </div>\n",
       "  "
      ],
      "text/plain": [
       "             Category  True Positive  ...    Recall        F1\n",
       "0            vehicles              4  ...  0.013333  0.010855\n",
       "1  electronic-devices              7  ...  0.023333  0.021505\n",
       "2          businesses              8  ...  0.026667  0.038095\n",
       "3        for-the-home              9  ...  0.030000  0.025316\n",
       "4            personal              7  ...  0.023333  0.021909\n",
       "5     leisure-hobbies              5  ...  0.016667  0.022624\n",
       "\n",
       "[6 rows x 7 columns]"
      ]
     },
     "metadata": {},
     "output_type": "display_data"
    },
    {
     "name": "stdout",
     "output_type": "stream",
     "text": [
      "\n"
     ]
    },
    {
     "data": {
      "text/html": [
       "\n",
       "  <div id=\"df-5d444af4-5ad0-4ec3-9164-88fa23915b81\">\n",
       "    <div class=\"colab-df-container\">\n",
       "      <div>\n",
       "<style scoped>\n",
       "    .dataframe tbody tr th:only-of-type {\n",
       "        vertical-align: middle;\n",
       "    }\n",
       "\n",
       "    .dataframe tbody tr th {\n",
       "        vertical-align: top;\n",
       "    }\n",
       "\n",
       "    .dataframe thead th {\n",
       "        text-align: right;\n",
       "    }\n",
       "</style>\n",
       "<table border=\"1\" class=\"dataframe\">\n",
       "  <thead>\n",
       "    <tr style=\"text-align: right;\">\n",
       "      <th></th>\n",
       "      <th>Macro Avg</th>\n",
       "      <th>Micro Avg</th>\n",
       "      <th>Weighted Avg</th>\n",
       "    </tr>\n",
       "  </thead>\n",
       "  <tbody>\n",
       "    <tr>\n",
       "      <th>0</th>\n",
       "      <td>0.023384</td>\n",
       "      <td>0.022222</td>\n",
       "      <td>0.023083</td>\n",
       "    </tr>\n",
       "  </tbody>\n",
       "</table>\n",
       "</div>\n",
       "      <button class=\"colab-df-convert\" onclick=\"convertToInteractive('df-5d444af4-5ad0-4ec3-9164-88fa23915b81')\"\n",
       "              title=\"Convert this dataframe to an interactive table.\"\n",
       "              style=\"display:none;\">\n",
       "        \n",
       "  <svg xmlns=\"http://www.w3.org/2000/svg\" height=\"24px\"viewBox=\"0 0 24 24\"\n",
       "       width=\"24px\">\n",
       "    <path d=\"M0 0h24v24H0V0z\" fill=\"none\"/>\n",
       "    <path d=\"M18.56 5.44l.94 2.06.94-2.06 2.06-.94-2.06-.94-.94-2.06-.94 2.06-2.06.94zm-11 1L8.5 8.5l.94-2.06 2.06-.94-2.06-.94L8.5 2.5l-.94 2.06-2.06.94zm10 10l.94 2.06.94-2.06 2.06-.94-2.06-.94-.94-2.06-.94 2.06-2.06.94z\"/><path d=\"M17.41 7.96l-1.37-1.37c-.4-.4-.92-.59-1.43-.59-.52 0-1.04.2-1.43.59L10.3 9.45l-7.72 7.72c-.78.78-.78 2.05 0 2.83L4 21.41c.39.39.9.59 1.41.59.51 0 1.02-.2 1.41-.59l7.78-7.78 2.81-2.81c.8-.78.8-2.07 0-2.86zM5.41 20L4 18.59l7.72-7.72 1.47 1.35L5.41 20z\"/>\n",
       "  </svg>\n",
       "      </button>\n",
       "      \n",
       "  <style>\n",
       "    .colab-df-container {\n",
       "      display:flex;\n",
       "      flex-wrap:wrap;\n",
       "      gap: 12px;\n",
       "    }\n",
       "\n",
       "    .colab-df-convert {\n",
       "      background-color: #E8F0FE;\n",
       "      border: none;\n",
       "      border-radius: 50%;\n",
       "      cursor: pointer;\n",
       "      display: none;\n",
       "      fill: #1967D2;\n",
       "      height: 32px;\n",
       "      padding: 0 0 0 0;\n",
       "      width: 32px;\n",
       "    }\n",
       "\n",
       "    .colab-df-convert:hover {\n",
       "      background-color: #E2EBFA;\n",
       "      box-shadow: 0px 1px 2px rgba(60, 64, 67, 0.3), 0px 1px 3px 1px rgba(60, 64, 67, 0.15);\n",
       "      fill: #174EA6;\n",
       "    }\n",
       "\n",
       "    [theme=dark] .colab-df-convert {\n",
       "      background-color: #3B4455;\n",
       "      fill: #D2E3FC;\n",
       "    }\n",
       "\n",
       "    [theme=dark] .colab-df-convert:hover {\n",
       "      background-color: #434B5C;\n",
       "      box-shadow: 0px 1px 3px 1px rgba(0, 0, 0, 0.15);\n",
       "      filter: drop-shadow(0px 1px 2px rgba(0, 0, 0, 0.3));\n",
       "      fill: #FFFFFF;\n",
       "    }\n",
       "  </style>\n",
       "\n",
       "      <script>\n",
       "        const buttonEl =\n",
       "          document.querySelector('#df-5d444af4-5ad0-4ec3-9164-88fa23915b81 button.colab-df-convert');\n",
       "        buttonEl.style.display =\n",
       "          google.colab.kernel.accessAllowed ? 'block' : 'none';\n",
       "\n",
       "        async function convertToInteractive(key) {\n",
       "          const element = document.querySelector('#df-5d444af4-5ad0-4ec3-9164-88fa23915b81');\n",
       "          const dataTable =\n",
       "            await google.colab.kernel.invokeFunction('convertToInteractive',\n",
       "                                                     [key], {});\n",
       "          if (!dataTable) return;\n",
       "\n",
       "          const docLinkHtml = 'Like what you see? Visit the ' +\n",
       "            '<a target=\"_blank\" href=https://colab.research.google.com/notebooks/data_table.ipynb>data table notebook</a>'\n",
       "            + ' to learn more about interactive tables.';\n",
       "          element.innerHTML = '';\n",
       "          dataTable['output_type'] = 'display_data';\n",
       "          await google.colab.output.renderOutput(dataTable, element);\n",
       "          const docLink = document.createElement('div');\n",
       "          docLink.innerHTML = docLinkHtml;\n",
       "          element.appendChild(docLink);\n",
       "        }\n",
       "      </script>\n",
       "    </div>\n",
       "  </div>\n",
       "  "
      ],
      "text/plain": [
       "   Macro Avg  Micro Avg  Weighted Avg\n",
       "0   0.023384   0.022222      0.023083"
      ]
     },
     "metadata": {},
     "output_type": "display_data"
    }
   ],
   "source": [
    "tps, fps, fns = list(), list(), list()\n",
    "precisions = list()\n",
    "recalls = list()\n",
    "f1s = list()\n",
    "for category in CATEGORIES:\n",
    "    tps.append(tp[category])\n",
    "    fps.append(fp[category])\n",
    "    fns.append(fn[category])\n",
    "\n",
    "    precision = tps[-1] / (tps[-1] + fps[-1])\n",
    "    precisions.append(precision)\n",
    "\n",
    "    recall = tps[-1] / (tps[-1] + fns[-1])\n",
    "    recalls.append(recall)\n",
    "\n",
    "    f1 = (2 * precision * recall) / (precision + recall)\n",
    "    f1s.append(f1)\n",
    "    \n",
    "display(\n",
    "pd.DataFrame({\n",
    "    'Category': CATEGORIES,\n",
    "    'True Positive': tps,\n",
    "    'False Positive': fps,\n",
    "    'False Negative': fns,\n",
    "    'Precision': precisions,\n",
    "    'Recall': recalls,\n",
    "    'F1': f1s\n",
    "}))\n",
    "print()\n",
    "prec = sum(tps) / (sum(tps) + sum(fps))\n",
    "reca = sum(tps) / (sum(tps) + sum(fns))\n",
    "display(\n",
    "pd.DataFrame({\n",
    "    'Macro Avg': [sum(f1s) / len(CATEGORIES)],\n",
    "    'Micro Avg': [2 * prec * reca / (prec + reca)],\n",
    "    'Weighted Avg': [sum(np.array(f1s) * np.array(list(category_size.values()))) / sum(list(category_size.values()))]\n",
    "}))"
   ]
  },
  {
   "cell_type": "markdown",
   "metadata": {
    "id": "a9724140"
   },
   "source": [
    "<h2>With Additive Smoothing</h2>"
   ]
  },
  {
   "cell_type": "code",
   "execution_count": 20,
   "metadata": {
    "colab": {
     "base_uri": "https://localhost:8080/",
     "height": 319
    },
    "executionInfo": {
     "elapsed": 15,
     "status": "ok",
     "timestamp": 1642900568720,
     "user": {
      "displayName": "Sepehr Babapour",
      "photoUrl": "https://lh3.googleusercontent.com/a-/AOh14GhkXqkE-OIMRLdVND22cwT1mLsLRd6gexMXR7mBQA=s64",
      "userId": "06632104842284419853"
     },
     "user_tz": -210
    },
    "id": "3ac42ef4",
    "outputId": "7c6f035f-673e-492b-e27d-974737ddd20d"
   },
   "outputs": [
    {
     "data": {
      "text/html": [
       "\n",
       "  <div id=\"df-e28a91fe-33cf-4504-bc0a-f849af9c672d\">\n",
       "    <div class=\"colab-df-container\">\n",
       "      <div>\n",
       "<style scoped>\n",
       "    .dataframe tbody tr th:only-of-type {\n",
       "        vertical-align: middle;\n",
       "    }\n",
       "\n",
       "    .dataframe tbody tr th {\n",
       "        vertical-align: top;\n",
       "    }\n",
       "\n",
       "    .dataframe thead th {\n",
       "        text-align: right;\n",
       "    }\n",
       "</style>\n",
       "<table border=\"1\" class=\"dataframe\">\n",
       "  <thead>\n",
       "    <tr style=\"text-align: right;\">\n",
       "      <th></th>\n",
       "      <th>Category</th>\n",
       "      <th>True Positive</th>\n",
       "      <th>False Positive</th>\n",
       "      <th>False Negative</th>\n",
       "      <th>Precision</th>\n",
       "      <th>Recall</th>\n",
       "      <th>F1</th>\n",
       "    </tr>\n",
       "  </thead>\n",
       "  <tbody>\n",
       "    <tr>\n",
       "      <th>0</th>\n",
       "      <td>vehicles</td>\n",
       "      <td>275</td>\n",
       "      <td>18</td>\n",
       "      <td>25</td>\n",
       "      <td>0.938567</td>\n",
       "      <td>0.916667</td>\n",
       "      <td>0.927487</td>\n",
       "    </tr>\n",
       "    <tr>\n",
       "      <th>1</th>\n",
       "      <td>electronic-devices</td>\n",
       "      <td>268</td>\n",
       "      <td>19</td>\n",
       "      <td>32</td>\n",
       "      <td>0.933798</td>\n",
       "      <td>0.893333</td>\n",
       "      <td>0.913118</td>\n",
       "    </tr>\n",
       "    <tr>\n",
       "      <th>2</th>\n",
       "      <td>businesses</td>\n",
       "      <td>230</td>\n",
       "      <td>65</td>\n",
       "      <td>70</td>\n",
       "      <td>0.779661</td>\n",
       "      <td>0.766667</td>\n",
       "      <td>0.773109</td>\n",
       "    </tr>\n",
       "    <tr>\n",
       "      <th>3</th>\n",
       "      <td>for-the-home</td>\n",
       "      <td>266</td>\n",
       "      <td>83</td>\n",
       "      <td>34</td>\n",
       "      <td>0.762178</td>\n",
       "      <td>0.886667</td>\n",
       "      <td>0.819723</td>\n",
       "    </tr>\n",
       "    <tr>\n",
       "      <th>4</th>\n",
       "      <td>personal</td>\n",
       "      <td>267</td>\n",
       "      <td>49</td>\n",
       "      <td>33</td>\n",
       "      <td>0.844937</td>\n",
       "      <td>0.890000</td>\n",
       "      <td>0.866883</td>\n",
       "    </tr>\n",
       "    <tr>\n",
       "      <th>5</th>\n",
       "      <td>leisure-hobbies</td>\n",
       "      <td>248</td>\n",
       "      <td>12</td>\n",
       "      <td>52</td>\n",
       "      <td>0.953846</td>\n",
       "      <td>0.826667</td>\n",
       "      <td>0.885714</td>\n",
       "    </tr>\n",
       "  </tbody>\n",
       "</table>\n",
       "</div>\n",
       "      <button class=\"colab-df-convert\" onclick=\"convertToInteractive('df-e28a91fe-33cf-4504-bc0a-f849af9c672d')\"\n",
       "              title=\"Convert this dataframe to an interactive table.\"\n",
       "              style=\"display:none;\">\n",
       "        \n",
       "  <svg xmlns=\"http://www.w3.org/2000/svg\" height=\"24px\"viewBox=\"0 0 24 24\"\n",
       "       width=\"24px\">\n",
       "    <path d=\"M0 0h24v24H0V0z\" fill=\"none\"/>\n",
       "    <path d=\"M18.56 5.44l.94 2.06.94-2.06 2.06-.94-2.06-.94-.94-2.06-.94 2.06-2.06.94zm-11 1L8.5 8.5l.94-2.06 2.06-.94-2.06-.94L8.5 2.5l-.94 2.06-2.06.94zm10 10l.94 2.06.94-2.06 2.06-.94-2.06-.94-.94-2.06-.94 2.06-2.06.94z\"/><path d=\"M17.41 7.96l-1.37-1.37c-.4-.4-.92-.59-1.43-.59-.52 0-1.04.2-1.43.59L10.3 9.45l-7.72 7.72c-.78.78-.78 2.05 0 2.83L4 21.41c.39.39.9.59 1.41.59.51 0 1.02-.2 1.41-.59l7.78-7.78 2.81-2.81c.8-.78.8-2.07 0-2.86zM5.41 20L4 18.59l7.72-7.72 1.47 1.35L5.41 20z\"/>\n",
       "  </svg>\n",
       "      </button>\n",
       "      \n",
       "  <style>\n",
       "    .colab-df-container {\n",
       "      display:flex;\n",
       "      flex-wrap:wrap;\n",
       "      gap: 12px;\n",
       "    }\n",
       "\n",
       "    .colab-df-convert {\n",
       "      background-color: #E8F0FE;\n",
       "      border: none;\n",
       "      border-radius: 50%;\n",
       "      cursor: pointer;\n",
       "      display: none;\n",
       "      fill: #1967D2;\n",
       "      height: 32px;\n",
       "      padding: 0 0 0 0;\n",
       "      width: 32px;\n",
       "    }\n",
       "\n",
       "    .colab-df-convert:hover {\n",
       "      background-color: #E2EBFA;\n",
       "      box-shadow: 0px 1px 2px rgba(60, 64, 67, 0.3), 0px 1px 3px 1px rgba(60, 64, 67, 0.15);\n",
       "      fill: #174EA6;\n",
       "    }\n",
       "\n",
       "    [theme=dark] .colab-df-convert {\n",
       "      background-color: #3B4455;\n",
       "      fill: #D2E3FC;\n",
       "    }\n",
       "\n",
       "    [theme=dark] .colab-df-convert:hover {\n",
       "      background-color: #434B5C;\n",
       "      box-shadow: 0px 1px 3px 1px rgba(0, 0, 0, 0.15);\n",
       "      filter: drop-shadow(0px 1px 2px rgba(0, 0, 0, 0.3));\n",
       "      fill: #FFFFFF;\n",
       "    }\n",
       "  </style>\n",
       "\n",
       "      <script>\n",
       "        const buttonEl =\n",
       "          document.querySelector('#df-e28a91fe-33cf-4504-bc0a-f849af9c672d button.colab-df-convert');\n",
       "        buttonEl.style.display =\n",
       "          google.colab.kernel.accessAllowed ? 'block' : 'none';\n",
       "\n",
       "        async function convertToInteractive(key) {\n",
       "          const element = document.querySelector('#df-e28a91fe-33cf-4504-bc0a-f849af9c672d');\n",
       "          const dataTable =\n",
       "            await google.colab.kernel.invokeFunction('convertToInteractive',\n",
       "                                                     [key], {});\n",
       "          if (!dataTable) return;\n",
       "\n",
       "          const docLinkHtml = 'Like what you see? Visit the ' +\n",
       "            '<a target=\"_blank\" href=https://colab.research.google.com/notebooks/data_table.ipynb>data table notebook</a>'\n",
       "            + ' to learn more about interactive tables.';\n",
       "          element.innerHTML = '';\n",
       "          dataTable['output_type'] = 'display_data';\n",
       "          await google.colab.output.renderOutput(dataTable, element);\n",
       "          const docLink = document.createElement('div');\n",
       "          docLink.innerHTML = docLinkHtml;\n",
       "          element.appendChild(docLink);\n",
       "        }\n",
       "      </script>\n",
       "    </div>\n",
       "  </div>\n",
       "  "
      ],
      "text/plain": [
       "             Category  True Positive  ...    Recall        F1\n",
       "0            vehicles            275  ...  0.916667  0.927487\n",
       "1  electronic-devices            268  ...  0.893333  0.913118\n",
       "2          businesses            230  ...  0.766667  0.773109\n",
       "3        for-the-home            266  ...  0.886667  0.819723\n",
       "4            personal            267  ...  0.890000  0.866883\n",
       "5     leisure-hobbies            248  ...  0.826667  0.885714\n",
       "\n",
       "[6 rows x 7 columns]"
      ]
     },
     "metadata": {},
     "output_type": "display_data"
    },
    {
     "name": "stdout",
     "output_type": "stream",
     "text": [
      "\n"
     ]
    },
    {
     "data": {
      "text/html": [
       "\n",
       "  <div id=\"df-00e80348-fddf-40b3-99a8-9a42ed2f7fa4\">\n",
       "    <div class=\"colab-df-container\">\n",
       "      <div>\n",
       "<style scoped>\n",
       "    .dataframe tbody tr th:only-of-type {\n",
       "        vertical-align: middle;\n",
       "    }\n",
       "\n",
       "    .dataframe tbody tr th {\n",
       "        vertical-align: top;\n",
       "    }\n",
       "\n",
       "    .dataframe thead th {\n",
       "        text-align: right;\n",
       "    }\n",
       "</style>\n",
       "<table border=\"1\" class=\"dataframe\">\n",
       "  <thead>\n",
       "    <tr style=\"text-align: right;\">\n",
       "      <th></th>\n",
       "      <th>Macro Avg</th>\n",
       "      <th>Micro Avg</th>\n",
       "      <th>Weighted Avg</th>\n",
       "    </tr>\n",
       "  </thead>\n",
       "  <tbody>\n",
       "    <tr>\n",
       "      <th>0</th>\n",
       "      <td>0.864339</td>\n",
       "      <td>0.863333</td>\n",
       "      <td>0.868133</td>\n",
       "    </tr>\n",
       "  </tbody>\n",
       "</table>\n",
       "</div>\n",
       "      <button class=\"colab-df-convert\" onclick=\"convertToInteractive('df-00e80348-fddf-40b3-99a8-9a42ed2f7fa4')\"\n",
       "              title=\"Convert this dataframe to an interactive table.\"\n",
       "              style=\"display:none;\">\n",
       "        \n",
       "  <svg xmlns=\"http://www.w3.org/2000/svg\" height=\"24px\"viewBox=\"0 0 24 24\"\n",
       "       width=\"24px\">\n",
       "    <path d=\"M0 0h24v24H0V0z\" fill=\"none\"/>\n",
       "    <path d=\"M18.56 5.44l.94 2.06.94-2.06 2.06-.94-2.06-.94-.94-2.06-.94 2.06-2.06.94zm-11 1L8.5 8.5l.94-2.06 2.06-.94-2.06-.94L8.5 2.5l-.94 2.06-2.06.94zm10 10l.94 2.06.94-2.06 2.06-.94-2.06-.94-.94-2.06-.94 2.06-2.06.94z\"/><path d=\"M17.41 7.96l-1.37-1.37c-.4-.4-.92-.59-1.43-.59-.52 0-1.04.2-1.43.59L10.3 9.45l-7.72 7.72c-.78.78-.78 2.05 0 2.83L4 21.41c.39.39.9.59 1.41.59.51 0 1.02-.2 1.41-.59l7.78-7.78 2.81-2.81c.8-.78.8-2.07 0-2.86zM5.41 20L4 18.59l7.72-7.72 1.47 1.35L5.41 20z\"/>\n",
       "  </svg>\n",
       "      </button>\n",
       "      \n",
       "  <style>\n",
       "    .colab-df-container {\n",
       "      display:flex;\n",
       "      flex-wrap:wrap;\n",
       "      gap: 12px;\n",
       "    }\n",
       "\n",
       "    .colab-df-convert {\n",
       "      background-color: #E8F0FE;\n",
       "      border: none;\n",
       "      border-radius: 50%;\n",
       "      cursor: pointer;\n",
       "      display: none;\n",
       "      fill: #1967D2;\n",
       "      height: 32px;\n",
       "      padding: 0 0 0 0;\n",
       "      width: 32px;\n",
       "    }\n",
       "\n",
       "    .colab-df-convert:hover {\n",
       "      background-color: #E2EBFA;\n",
       "      box-shadow: 0px 1px 2px rgba(60, 64, 67, 0.3), 0px 1px 3px 1px rgba(60, 64, 67, 0.15);\n",
       "      fill: #174EA6;\n",
       "    }\n",
       "\n",
       "    [theme=dark] .colab-df-convert {\n",
       "      background-color: #3B4455;\n",
       "      fill: #D2E3FC;\n",
       "    }\n",
       "\n",
       "    [theme=dark] .colab-df-convert:hover {\n",
       "      background-color: #434B5C;\n",
       "      box-shadow: 0px 1px 3px 1px rgba(0, 0, 0, 0.15);\n",
       "      filter: drop-shadow(0px 1px 2px rgba(0, 0, 0, 0.3));\n",
       "      fill: #FFFFFF;\n",
       "    }\n",
       "  </style>\n",
       "\n",
       "      <script>\n",
       "        const buttonEl =\n",
       "          document.querySelector('#df-00e80348-fddf-40b3-99a8-9a42ed2f7fa4 button.colab-df-convert');\n",
       "        buttonEl.style.display =\n",
       "          google.colab.kernel.accessAllowed ? 'block' : 'none';\n",
       "\n",
       "        async function convertToInteractive(key) {\n",
       "          const element = document.querySelector('#df-00e80348-fddf-40b3-99a8-9a42ed2f7fa4');\n",
       "          const dataTable =\n",
       "            await google.colab.kernel.invokeFunction('convertToInteractive',\n",
       "                                                     [key], {});\n",
       "          if (!dataTable) return;\n",
       "\n",
       "          const docLinkHtml = 'Like what you see? Visit the ' +\n",
       "            '<a target=\"_blank\" href=https://colab.research.google.com/notebooks/data_table.ipynb>data table notebook</a>'\n",
       "            + ' to learn more about interactive tables.';\n",
       "          element.innerHTML = '';\n",
       "          dataTable['output_type'] = 'display_data';\n",
       "          await google.colab.output.renderOutput(dataTable, element);\n",
       "          const docLink = document.createElement('div');\n",
       "          docLink.innerHTML = docLinkHtml;\n",
       "          element.appendChild(docLink);\n",
       "        }\n",
       "      </script>\n",
       "    </div>\n",
       "  </div>\n",
       "  "
      ],
      "text/plain": [
       "   Macro Avg  Micro Avg  Weighted Avg\n",
       "0   0.864339   0.863333      0.868133"
      ]
     },
     "metadata": {},
     "output_type": "display_data"
    }
   ],
   "source": [
    "tps_additive, fps_additive, fns_additive = list(), list(), list()\n",
    "precisions_additive = list()\n",
    "recalls_additive = list()\n",
    "f1s_additive = list()\n",
    "for category in CATEGORIES:\n",
    "    tps_additive.append(tp_additive[category])\n",
    "    fps_additive.append(fp_additive[category])\n",
    "    fns_additive.append(fn_additive[category])\n",
    "\n",
    "    precision_additive = tps_additive[-1] / (tps_additive[-1] + fps_additive[-1])\n",
    "    precisions_additive.append(precision_additive)\n",
    "\n",
    "    recall_additive = tps_additive[-1] / (tps_additive[-1] + fns_additive[-1])\n",
    "    recalls_additive.append(recall_additive)\n",
    "\n",
    "    f1_additive = (2 * precision_additive * recall_additive) / (precision_additive + recall_additive)\n",
    "    f1s_additive.append(f1_additive)\n",
    "    \n",
    "display(\n",
    "pd.DataFrame({\n",
    "    'Category': CATEGORIES,\n",
    "    'True Positive': tps_additive,\n",
    "    'False Positive': fps_additive,\n",
    "    'False Negative': fns_additive,\n",
    "    'Precision': precisions_additive,\n",
    "    'Recall': recalls_additive,\n",
    "    'F1': f1s_additive\n",
    "}))\n",
    "print()\n",
    "prec_additive = sum(tps_additive) / (sum(tps_additive) + sum(fps_additive))\n",
    "reca_additive = sum(tps_additive) / (sum(tps_additive) + sum(fns_additive))\n",
    "display(\n",
    "pd.DataFrame({\n",
    "    'Macro Avg': [sum(f1s_additive) / len(CATEGORIES)],\n",
    "    'Micro Avg': [2 * prec_additive * reca_additive / (prec_additive + reca_additive)],\n",
    "    'Weighted Avg': [sum(np.array(f1s_additive) * np.array(list(category_size.values()))) / sum(list(category_size.values()))]\n",
    "}))"
   ]
  },
  {
   "cell_type": "markdown",
   "metadata": {
    "id": "1HdxYrPJe4FH"
   },
   "source": [
    "# Section 12"
   ]
  },
  {
   "cell_type": "code",
   "execution_count": 21,
   "metadata": {
    "colab": {
     "base_uri": "https://localhost:8080/",
     "height": 206
    },
    "executionInfo": {
     "elapsed": 13,
     "status": "ok",
     "timestamp": 1642900568720,
     "user": {
      "displayName": "Sepehr Babapour",
      "photoUrl": "https://lh3.googleusercontent.com/a-/AOh14GhkXqkE-OIMRLdVND22cwT1mLsLRd6gexMXR7mBQA=s64",
      "userId": "06632104842284419853"
     },
     "user_tz": -210
    },
    "id": "EnN16CRkd2zy",
    "outputId": "836e5622-317d-427b-ed84-e26d814553fb"
   },
   "outputs": [
    {
     "data": {
      "text/html": [
       "\n",
       "  <div id=\"df-03238307-b04b-4e71-a312-78de17175cba\">\n",
       "    <div class=\"colab-df-container\">\n",
       "      <div>\n",
       "<style scoped>\n",
       "    .dataframe tbody tr th:only-of-type {\n",
       "        vertical-align: middle;\n",
       "    }\n",
       "\n",
       "    .dataframe tbody tr th {\n",
       "        vertical-align: top;\n",
       "    }\n",
       "\n",
       "    .dataframe thead th {\n",
       "        text-align: right;\n",
       "    }\n",
       "</style>\n",
       "<table border=\"1\" class=\"dataframe\">\n",
       "  <thead>\n",
       "    <tr style=\"text-align: right;\">\n",
       "      <th></th>\n",
       "      <th>Row Index</th>\n",
       "      <th>True Category</th>\n",
       "      <th>Predicted Category</th>\n",
       "    </tr>\n",
       "  </thead>\n",
       "  <tbody>\n",
       "    <tr>\n",
       "      <th>0</th>\n",
       "      <td>1155</td>\n",
       "      <td>vehicles</td>\n",
       "      <td>electronic-devices</td>\n",
       "    </tr>\n",
       "    <tr>\n",
       "      <th>1</th>\n",
       "      <td>1591</td>\n",
       "      <td>businesses</td>\n",
       "      <td>personal</td>\n",
       "    </tr>\n",
       "    <tr>\n",
       "      <th>2</th>\n",
       "      <td>195</td>\n",
       "      <td>leisure-hobbies</td>\n",
       "      <td>vehicles</td>\n",
       "    </tr>\n",
       "    <tr>\n",
       "      <th>3</th>\n",
       "      <td>580</td>\n",
       "      <td>for-the-home</td>\n",
       "      <td>businesses</td>\n",
       "    </tr>\n",
       "    <tr>\n",
       "      <th>4</th>\n",
       "      <td>1505</td>\n",
       "      <td>leisure-hobbies</td>\n",
       "      <td>personal</td>\n",
       "    </tr>\n",
       "  </tbody>\n",
       "</table>\n",
       "</div>\n",
       "      <button class=\"colab-df-convert\" onclick=\"convertToInteractive('df-03238307-b04b-4e71-a312-78de17175cba')\"\n",
       "              title=\"Convert this dataframe to an interactive table.\"\n",
       "              style=\"display:none;\">\n",
       "        \n",
       "  <svg xmlns=\"http://www.w3.org/2000/svg\" height=\"24px\"viewBox=\"0 0 24 24\"\n",
       "       width=\"24px\">\n",
       "    <path d=\"M0 0h24v24H0V0z\" fill=\"none\"/>\n",
       "    <path d=\"M18.56 5.44l.94 2.06.94-2.06 2.06-.94-2.06-.94-.94-2.06-.94 2.06-2.06.94zm-11 1L8.5 8.5l.94-2.06 2.06-.94-2.06-.94L8.5 2.5l-.94 2.06-2.06.94zm10 10l.94 2.06.94-2.06 2.06-.94-2.06-.94-.94-2.06-.94 2.06-2.06.94z\"/><path d=\"M17.41 7.96l-1.37-1.37c-.4-.4-.92-.59-1.43-.59-.52 0-1.04.2-1.43.59L10.3 9.45l-7.72 7.72c-.78.78-.78 2.05 0 2.83L4 21.41c.39.39.9.59 1.41.59.51 0 1.02-.2 1.41-.59l7.78-7.78 2.81-2.81c.8-.78.8-2.07 0-2.86zM5.41 20L4 18.59l7.72-7.72 1.47 1.35L5.41 20z\"/>\n",
       "  </svg>\n",
       "      </button>\n",
       "      \n",
       "  <style>\n",
       "    .colab-df-container {\n",
       "      display:flex;\n",
       "      flex-wrap:wrap;\n",
       "      gap: 12px;\n",
       "    }\n",
       "\n",
       "    .colab-df-convert {\n",
       "      background-color: #E8F0FE;\n",
       "      border: none;\n",
       "      border-radius: 50%;\n",
       "      cursor: pointer;\n",
       "      display: none;\n",
       "      fill: #1967D2;\n",
       "      height: 32px;\n",
       "      padding: 0 0 0 0;\n",
       "      width: 32px;\n",
       "    }\n",
       "\n",
       "    .colab-df-convert:hover {\n",
       "      background-color: #E2EBFA;\n",
       "      box-shadow: 0px 1px 2px rgba(60, 64, 67, 0.3), 0px 1px 3px 1px rgba(60, 64, 67, 0.15);\n",
       "      fill: #174EA6;\n",
       "    }\n",
       "\n",
       "    [theme=dark] .colab-df-convert {\n",
       "      background-color: #3B4455;\n",
       "      fill: #D2E3FC;\n",
       "    }\n",
       "\n",
       "    [theme=dark] .colab-df-convert:hover {\n",
       "      background-color: #434B5C;\n",
       "      box-shadow: 0px 1px 3px 1px rgba(0, 0, 0, 0.15);\n",
       "      filter: drop-shadow(0px 1px 2px rgba(0, 0, 0, 0.3));\n",
       "      fill: #FFFFFF;\n",
       "    }\n",
       "  </style>\n",
       "\n",
       "      <script>\n",
       "        const buttonEl =\n",
       "          document.querySelector('#df-03238307-b04b-4e71-a312-78de17175cba button.colab-df-convert');\n",
       "        buttonEl.style.display =\n",
       "          google.colab.kernel.accessAllowed ? 'block' : 'none';\n",
       "\n",
       "        async function convertToInteractive(key) {\n",
       "          const element = document.querySelector('#df-03238307-b04b-4e71-a312-78de17175cba');\n",
       "          const dataTable =\n",
       "            await google.colab.kernel.invokeFunction('convertToInteractive',\n",
       "                                                     [key], {});\n",
       "          if (!dataTable) return;\n",
       "\n",
       "          const docLinkHtml = 'Like what you see? Visit the ' +\n",
       "            '<a target=\"_blank\" href=https://colab.research.google.com/notebooks/data_table.ipynb>data table notebook</a>'\n",
       "            + ' to learn more about interactive tables.';\n",
       "          element.innerHTML = '';\n",
       "          dataTable['output_type'] = 'display_data';\n",
       "          await google.colab.output.renderOutput(dataTable, element);\n",
       "          const docLink = document.createElement('div');\n",
       "          docLink.innerHTML = docLinkHtml;\n",
       "          element.appendChild(docLink);\n",
       "        }\n",
       "      </script>\n",
       "    </div>\n",
       "  </div>\n",
       "  "
      ],
      "text/plain": [
       "   Row Index    True Category  Predicted Category\n",
       "0       1155         vehicles  electronic-devices\n",
       "1       1591       businesses            personal\n",
       "2        195  leisure-hobbies            vehicles\n",
       "3        580     for-the-home          businesses\n",
       "4       1505  leisure-hobbies            personal"
      ]
     },
     "metadata": {},
     "output_type": "display_data"
    }
   ],
   "source": [
    "indices = list()\n",
    "true_cats = list()\n",
    "pred_cats = list()\n",
    "for false_answer in random.sample(false_answers, 5):\n",
    "    indices.append(false_answer['idx'])\n",
    "    true_cats.append(false_answer['true_category'])\n",
    "    pred_cats.append(false_answer['pred_category'])\n",
    "\n",
    "display(\n",
    "pd.DataFrame({\n",
    "    'Row Index': indices,\n",
    "    'True Category': true_cats,\n",
    "    'Predicted Category': pred_cats\n",
    "}))"
   ]
  },
  {
   "cell_type": "code",
   "execution_count": 27,
   "metadata": {
    "colab": {
     "base_uri": "https://localhost:8080/",
     "height": 81
    },
    "executionInfo": {
     "elapsed": 452,
     "status": "ok",
     "timestamp": 1642900878483,
     "user": {
      "displayName": "Sepehr Babapour",
      "photoUrl": "https://lh3.googleusercontent.com/a-/AOh14GhkXqkE-OIMRLdVND22cwT1mLsLRd6gexMXR7mBQA=s64",
      "userId": "06632104842284419853"
     },
     "user_tz": -210
    },
    "id": "GkaPJhdlgZrY",
    "outputId": "2e353d56-365a-4adf-e3de-f785af4baf89"
   },
   "outputs": [
    {
     "data": {
      "text/html": [
       "\n",
       "  <div id=\"df-6fd8366d-8115-4175-800f-3baba8303fa4\">\n",
       "    <div class=\"colab-df-container\">\n",
       "      <div>\n",
       "<style scoped>\n",
       "    .dataframe tbody tr th:only-of-type {\n",
       "        vertical-align: middle;\n",
       "    }\n",
       "\n",
       "    .dataframe tbody tr th {\n",
       "        vertical-align: top;\n",
       "    }\n",
       "\n",
       "    .dataframe thead th {\n",
       "        text-align: right;\n",
       "    }\n",
       "</style>\n",
       "<table border=\"1\" class=\"dataframe\">\n",
       "  <thead>\n",
       "    <tr style=\"text-align: right;\">\n",
       "      <th></th>\n",
       "      <th>title</th>\n",
       "      <th>description</th>\n",
       "      <th>categories</th>\n",
       "    </tr>\n",
       "  </thead>\n",
       "  <tbody>\n",
       "    <tr>\n",
       "      <th>1155</th>\n",
       "      <td>jvc تصویری ضبط جی وی سی</td>\n",
       "      <td>تمام حرفهای ١٠ اکولایزر  ١٠ خروجی بلندگو تمامی...</td>\n",
       "      <td>vehicles</td>\n",
       "    </tr>\n",
       "  </tbody>\n",
       "</table>\n",
       "</div>\n",
       "      <button class=\"colab-df-convert\" onclick=\"convertToInteractive('df-6fd8366d-8115-4175-800f-3baba8303fa4')\"\n",
       "              title=\"Convert this dataframe to an interactive table.\"\n",
       "              style=\"display:none;\">\n",
       "        \n",
       "  <svg xmlns=\"http://www.w3.org/2000/svg\" height=\"24px\"viewBox=\"0 0 24 24\"\n",
       "       width=\"24px\">\n",
       "    <path d=\"M0 0h24v24H0V0z\" fill=\"none\"/>\n",
       "    <path d=\"M18.56 5.44l.94 2.06.94-2.06 2.06-.94-2.06-.94-.94-2.06-.94 2.06-2.06.94zm-11 1L8.5 8.5l.94-2.06 2.06-.94-2.06-.94L8.5 2.5l-.94 2.06-2.06.94zm10 10l.94 2.06.94-2.06 2.06-.94-2.06-.94-.94-2.06-.94 2.06-2.06.94z\"/><path d=\"M17.41 7.96l-1.37-1.37c-.4-.4-.92-.59-1.43-.59-.52 0-1.04.2-1.43.59L10.3 9.45l-7.72 7.72c-.78.78-.78 2.05 0 2.83L4 21.41c.39.39.9.59 1.41.59.51 0 1.02-.2 1.41-.59l7.78-7.78 2.81-2.81c.8-.78.8-2.07 0-2.86zM5.41 20L4 18.59l7.72-7.72 1.47 1.35L5.41 20z\"/>\n",
       "  </svg>\n",
       "      </button>\n",
       "      \n",
       "  <style>\n",
       "    .colab-df-container {\n",
       "      display:flex;\n",
       "      flex-wrap:wrap;\n",
       "      gap: 12px;\n",
       "    }\n",
       "\n",
       "    .colab-df-convert {\n",
       "      background-color: #E8F0FE;\n",
       "      border: none;\n",
       "      border-radius: 50%;\n",
       "      cursor: pointer;\n",
       "      display: none;\n",
       "      fill: #1967D2;\n",
       "      height: 32px;\n",
       "      padding: 0 0 0 0;\n",
       "      width: 32px;\n",
       "    }\n",
       "\n",
       "    .colab-df-convert:hover {\n",
       "      background-color: #E2EBFA;\n",
       "      box-shadow: 0px 1px 2px rgba(60, 64, 67, 0.3), 0px 1px 3px 1px rgba(60, 64, 67, 0.15);\n",
       "      fill: #174EA6;\n",
       "    }\n",
       "\n",
       "    [theme=dark] .colab-df-convert {\n",
       "      background-color: #3B4455;\n",
       "      fill: #D2E3FC;\n",
       "    }\n",
       "\n",
       "    [theme=dark] .colab-df-convert:hover {\n",
       "      background-color: #434B5C;\n",
       "      box-shadow: 0px 1px 3px 1px rgba(0, 0, 0, 0.15);\n",
       "      filter: drop-shadow(0px 1px 2px rgba(0, 0, 0, 0.3));\n",
       "      fill: #FFFFFF;\n",
       "    }\n",
       "  </style>\n",
       "\n",
       "      <script>\n",
       "        const buttonEl =\n",
       "          document.querySelector('#df-6fd8366d-8115-4175-800f-3baba8303fa4 button.colab-df-convert');\n",
       "        buttonEl.style.display =\n",
       "          google.colab.kernel.accessAllowed ? 'block' : 'none';\n",
       "\n",
       "        async function convertToInteractive(key) {\n",
       "          const element = document.querySelector('#df-6fd8366d-8115-4175-800f-3baba8303fa4');\n",
       "          const dataTable =\n",
       "            await google.colab.kernel.invokeFunction('convertToInteractive',\n",
       "                                                     [key], {});\n",
       "          if (!dataTable) return;\n",
       "\n",
       "          const docLinkHtml = 'Like what you see? Visit the ' +\n",
       "            '<a target=\"_blank\" href=https://colab.research.google.com/notebooks/data_table.ipynb>data table notebook</a>'\n",
       "            + ' to learn more about interactive tables.';\n",
       "          element.innerHTML = '';\n",
       "          dataTable['output_type'] = 'display_data';\n",
       "          await google.colab.output.renderOutput(dataTable, element);\n",
       "          const docLink = document.createElement('div');\n",
       "          docLink.innerHTML = docLinkHtml;\n",
       "          element.appendChild(docLink);\n",
       "        }\n",
       "      </script>\n",
       "    </div>\n",
       "  </div>\n",
       "  "
      ],
      "text/plain": [
       "                        title  ... categories\n",
       "1155  jvc تصویری ضبط جی وی سی  ...   vehicles\n",
       "\n",
       "[1 rows x 3 columns]"
      ]
     },
     "metadata": {},
     "output_type": "display_data"
    }
   ],
   "source": [
    "display(pd.DataFrame(data_test.iloc[1155]).T)"
   ]
  },
  {
   "cell_type": "code",
   "execution_count": 30,
   "metadata": {
    "colab": {
     "base_uri": "https://localhost:8080/",
     "height": 81
    },
    "executionInfo": {
     "elapsed": 444,
     "status": "ok",
     "timestamp": 1642900992443,
     "user": {
      "displayName": "Sepehr Babapour",
      "photoUrl": "https://lh3.googleusercontent.com/a-/AOh14GhkXqkE-OIMRLdVND22cwT1mLsLRd6gexMXR7mBQA=s64",
      "userId": "06632104842284419853"
     },
     "user_tz": -210
    },
    "id": "IowTojgegbzb",
    "outputId": "acb4192f-8cd5-4fb6-923b-3bd27b522ef0"
   },
   "outputs": [
    {
     "data": {
      "text/html": [
       "\n",
       "  <div id=\"df-2bd2c4ae-ea45-43db-89e1-9e47d2b13cb2\">\n",
       "    <div class=\"colab-df-container\">\n",
       "      <div>\n",
       "<style scoped>\n",
       "    .dataframe tbody tr th:only-of-type {\n",
       "        vertical-align: middle;\n",
       "    }\n",
       "\n",
       "    .dataframe tbody tr th {\n",
       "        vertical-align: top;\n",
       "    }\n",
       "\n",
       "    .dataframe thead th {\n",
       "        text-align: right;\n",
       "    }\n",
       "</style>\n",
       "<table border=\"1\" class=\"dataframe\">\n",
       "  <thead>\n",
       "    <tr style=\"text-align: right;\">\n",
       "      <th></th>\n",
       "      <th>title</th>\n",
       "      <th>description</th>\n",
       "      <th>categories</th>\n",
       "    </tr>\n",
       "  </thead>\n",
       "  <tbody>\n",
       "    <tr>\n",
       "      <th>580</th>\n",
       "      <td>شىریى خورى دو طبقه</td>\n",
       "      <td>شىرینى خورى دوطبقه دور طلایى .قىمت 30000تومان</td>\n",
       "      <td>for-the-home</td>\n",
       "    </tr>\n",
       "  </tbody>\n",
       "</table>\n",
       "</div>\n",
       "      <button class=\"colab-df-convert\" onclick=\"convertToInteractive('df-2bd2c4ae-ea45-43db-89e1-9e47d2b13cb2')\"\n",
       "              title=\"Convert this dataframe to an interactive table.\"\n",
       "              style=\"display:none;\">\n",
       "        \n",
       "  <svg xmlns=\"http://www.w3.org/2000/svg\" height=\"24px\"viewBox=\"0 0 24 24\"\n",
       "       width=\"24px\">\n",
       "    <path d=\"M0 0h24v24H0V0z\" fill=\"none\"/>\n",
       "    <path d=\"M18.56 5.44l.94 2.06.94-2.06 2.06-.94-2.06-.94-.94-2.06-.94 2.06-2.06.94zm-11 1L8.5 8.5l.94-2.06 2.06-.94-2.06-.94L8.5 2.5l-.94 2.06-2.06.94zm10 10l.94 2.06.94-2.06 2.06-.94-2.06-.94-.94-2.06-.94 2.06-2.06.94z\"/><path d=\"M17.41 7.96l-1.37-1.37c-.4-.4-.92-.59-1.43-.59-.52 0-1.04.2-1.43.59L10.3 9.45l-7.72 7.72c-.78.78-.78 2.05 0 2.83L4 21.41c.39.39.9.59 1.41.59.51 0 1.02-.2 1.41-.59l7.78-7.78 2.81-2.81c.8-.78.8-2.07 0-2.86zM5.41 20L4 18.59l7.72-7.72 1.47 1.35L5.41 20z\"/>\n",
       "  </svg>\n",
       "      </button>\n",
       "      \n",
       "  <style>\n",
       "    .colab-df-container {\n",
       "      display:flex;\n",
       "      flex-wrap:wrap;\n",
       "      gap: 12px;\n",
       "    }\n",
       "\n",
       "    .colab-df-convert {\n",
       "      background-color: #E8F0FE;\n",
       "      border: none;\n",
       "      border-radius: 50%;\n",
       "      cursor: pointer;\n",
       "      display: none;\n",
       "      fill: #1967D2;\n",
       "      height: 32px;\n",
       "      padding: 0 0 0 0;\n",
       "      width: 32px;\n",
       "    }\n",
       "\n",
       "    .colab-df-convert:hover {\n",
       "      background-color: #E2EBFA;\n",
       "      box-shadow: 0px 1px 2px rgba(60, 64, 67, 0.3), 0px 1px 3px 1px rgba(60, 64, 67, 0.15);\n",
       "      fill: #174EA6;\n",
       "    }\n",
       "\n",
       "    [theme=dark] .colab-df-convert {\n",
       "      background-color: #3B4455;\n",
       "      fill: #D2E3FC;\n",
       "    }\n",
       "\n",
       "    [theme=dark] .colab-df-convert:hover {\n",
       "      background-color: #434B5C;\n",
       "      box-shadow: 0px 1px 3px 1px rgba(0, 0, 0, 0.15);\n",
       "      filter: drop-shadow(0px 1px 2px rgba(0, 0, 0, 0.3));\n",
       "      fill: #FFFFFF;\n",
       "    }\n",
       "  </style>\n",
       "\n",
       "      <script>\n",
       "        const buttonEl =\n",
       "          document.querySelector('#df-2bd2c4ae-ea45-43db-89e1-9e47d2b13cb2 button.colab-df-convert');\n",
       "        buttonEl.style.display =\n",
       "          google.colab.kernel.accessAllowed ? 'block' : 'none';\n",
       "\n",
       "        async function convertToInteractive(key) {\n",
       "          const element = document.querySelector('#df-2bd2c4ae-ea45-43db-89e1-9e47d2b13cb2');\n",
       "          const dataTable =\n",
       "            await google.colab.kernel.invokeFunction('convertToInteractive',\n",
       "                                                     [key], {});\n",
       "          if (!dataTable) return;\n",
       "\n",
       "          const docLinkHtml = 'Like what you see? Visit the ' +\n",
       "            '<a target=\"_blank\" href=https://colab.research.google.com/notebooks/data_table.ipynb>data table notebook</a>'\n",
       "            + ' to learn more about interactive tables.';\n",
       "          element.innerHTML = '';\n",
       "          dataTable['output_type'] = 'display_data';\n",
       "          await google.colab.output.renderOutput(dataTable, element);\n",
       "          const docLink = document.createElement('div');\n",
       "          docLink.innerHTML = docLinkHtml;\n",
       "          element.appendChild(docLink);\n",
       "        }\n",
       "      </script>\n",
       "    </div>\n",
       "  </div>\n",
       "  "
      ],
      "text/plain": [
       "                  title  ...    categories\n",
       "580  شىریى خورى دو طبقه  ...  for-the-home\n",
       "\n",
       "[1 rows x 3 columns]"
      ]
     },
     "metadata": {},
     "output_type": "display_data"
    }
   ],
   "source": [
    "display(pd.DataFrame(data_test.iloc[580]).T)"
   ]
  }
 ],
 "metadata": {
  "colab": {
   "authorship_tag": "ABX9TyPCwIoVSU+JqJr03p4QAr1x",
   "name": "HW3.ipynb",
   "provenance": []
  },
  "kernelspec": {
   "display_name": "Python 3 (ipykernel)",
   "language": "python",
   "name": "python3"
  },
  "language_info": {
   "codemirror_mode": {
    "name": "ipython",
    "version": 3
   },
   "file_extension": ".py",
   "mimetype": "text/x-python",
   "name": "python",
   "nbconvert_exporter": "python",
   "pygments_lexer": "ipython3",
   "version": "3.8.10"
  }
 },
 "nbformat": 4,
 "nbformat_minor": 1
}
